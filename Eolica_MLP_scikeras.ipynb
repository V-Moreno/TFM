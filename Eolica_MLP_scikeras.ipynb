{
 "cells": [
  {
   "cell_type": "markdown",
   "id": "9e5a736d",
   "metadata": {},
   "source": [
    "# Imports"
   ]
  },
  {
   "cell_type": "code",
   "execution_count": 1,
   "id": "fb87c922",
   "metadata": {},
   "outputs": [],
   "source": [
    "import scikeras"
   ]
  },
  {
   "cell_type": "code",
   "execution_count": 2,
   "id": "1cefa756",
   "metadata": {},
   "outputs": [],
   "source": [
    "import pandas as pd\n",
    "import numpy as np\n",
    "from scikeras.wrappers import KerasRegressor\n",
    "from tensorflow import keras\n",
    "import joblib\n",
    "from plotly.subplots import make_subplots\n",
    "import plotly.graph_objects as go\n",
    "import plotly.express as px\n",
    "# import plotly.offline as pyo\n",
    "\n",
    "import plotly.io as pio\n",
    "pio.renderers.default='notebook'\n",
    "\n",
    "import matplotlib.pyplot as plt\n",
    "# pyo.init_notebook_mode()\n",
    "\n",
    "from time import time"
   ]
  },
  {
   "cell_type": "code",
   "execution_count": 3,
   "id": "59cdf99d",
   "metadata": {},
   "outputs": [],
   "source": [
    "import sklearn.metrics as metrics\n",
    "from sklearn.model_selection import GridSearchCV\n",
    "from sklearn.model_selection import TimeSeriesSplit\n",
    "from sklearn.preprocessing import StandardScaler\n",
    "from sklearn.pipeline import Pipeline\n",
    "# from sklearn.neural_network import MLPRegressor\n",
    "from sklearn.compose import TransformedTargetRegressor"
   ]
  },
  {
   "cell_type": "code",
   "execution_count": 4,
   "id": "3565e4d8",
   "metadata": {},
   "outputs": [],
   "source": [
    "# import tensorflow as tf\n",
    "# from tensorflow import keras\n",
    "# from tensorflow.keras import layers\n",
    "# from tensorflow.keras.layers import Dense\n",
    "# from tensorflow.keras.optimizers import SGD\n",
    "# from tensorflow.keras.callbacks import ReduceLROnPlateau\n",
    "# from tensorflow.python.client import device_lib\n",
    "# import sklearn.metrics as metrics\n",
    "# from sklearn.preprocessing import StandardScaler\n",
    "# import h5py"
   ]
  },
  {
   "cell_type": "markdown",
   "id": "3fe7536a",
   "metadata": {},
   "source": [
    "# Cargar datasets"
   ]
  },
  {
   "cell_type": "code",
   "execution_count": 4,
   "id": "e2ae849d",
   "metadata": {},
   "outputs": [],
   "source": [
    "X_train = pd.read_csv('C:/Users/vmore/notebooks/TFM/Modelos eolica/datos/X_train_2y.csv', parse_dates=[0], index_col='datetime_utc')\n",
    "y_train = pd.read_csv('C:/Users/vmore/notebooks/TFM/Modelos eolica/datos/y_train_2y.csv', parse_dates=[0], index_col='datetime_utc')\n",
    "X_test = pd.read_csv('C:/Users/vmore/notebooks/TFM/Modelos eolica/datos/X_test.csv', parse_dates=[0], index_col='datetime_utc')\n",
    "y_test = pd.read_csv('C:/Users/vmore/notebooks/TFM/Modelos eolica/datos/y_test.csv', parse_dates=[0], index_col='datetime_utc')\n",
    "test_data = pd.read_csv('C:/Users/vmore/notebooks/TFM/Modelos eolica/datos/test_data.csv', parse_dates=[0], index_col='datetime_utc')"
   ]
  },
  {
   "cell_type": "markdown",
   "id": "b4d629ef",
   "metadata": {},
   "source": [
    "# 4. MLP keras"
   ]
  },
  {
   "cell_type": "code",
   "execution_count": 6,
   "id": "7749d9e9",
   "metadata": {},
   "outputs": [
    {
     "name": "stdout",
     "output_type": "stream",
     "text": [
      "0.1149833877881368  minutos\n"
     ]
    }
   ],
   "source": [
    "start = time()\n",
    "def get_MLP(hidden_layer_sizes, alpha, meta):\n",
    "    model = keras.Sequential()\n",
    "    inp = keras.layers.Input(shape=(meta[\"n_features_in_\"]))\n",
    "    model.add(inp)\n",
    "    for hidden_layer_size in hidden_layer_sizes:\n",
    "        layer = keras.layers.Dense(hidden_layer_size, activation=\"relu\", kernel_regularizer=keras.regularizers.L2(alpha),)\n",
    "#         model.add(keras.layers.Dropout(dropout))\n",
    "        model.add(layer)\n",
    "    out = keras.layers.Dense(6, kernel_regularizer=keras.regularizers.L2(alpha),)\n",
    "    model.add(out)\n",
    "#     model.compile(loss=loss, optimizer=compile_kwargs[\"optimizer\"])\n",
    "    return model\n",
    "\n",
    "mlp = KerasRegressor(\n",
    "    model=get_MLP,\n",
    "    loss=\"mean_absolute_error\",\n",
    "    optimizer='adam',\n",
    "#     model__hidden_layer_sizes=(100,),\n",
    "#     model__dropout=0.2,\n",
    "    epochs=2000,\n",
    "    verbose=0,\n",
    "#     metrics=\"mean_absolute_error\",\n",
    "    shuffle=False,\n",
    "    batch_size=64,\n",
    ")\n",
    "\n",
    "mlp_pipeline = Pipeline(steps=[('std_sc', StandardScaler()),\n",
    "                               ('mlp', mlp)])\n",
    "\n",
    "y_transformer = StandardScaler()\n",
    "inner_estimator = TransformedTargetRegressor(regressor=mlp_pipeline,\n",
    "                                             transformer=y_transformer)\n",
    "\n",
    "# param_grid_MLP = {'regressor__mlp__model__hidden_layer_sizes': [(10,), (50,), (100,), (10,10), (50,50), (100,100),],\n",
    "# #                   'regressor__mlp__model__dropout': [0.1, 0.2, 0.5],\n",
    "#                   'regressor__mlp__model__alpha': [0.00001, 0.0001, 0.001, 0.01, 0.1, 1,],\n",
    "# #                   'regressor__mlp__batch_size': [8, 16, 32],\n",
    "#                  }\n",
    "\n",
    "param_grid_MLP = {'regressor__mlp__model__hidden_layer_sizes': [(10,), (50,), (100,), (10,10), (50,50), (100,100),],\n",
    "#                   'regressor__mlp__model__dropout': [0.1, 0.2, 0.5],\n",
    "                  'regressor__mlp__model__alpha': [0.0001],\n",
    "#                   'regressor__mlp__batch_size': [8, 16, 32],\n",
    "                 }\n",
    "\n",
    "# TimeSeries Cross validation\n",
    "tscv = TimeSeriesSplit(n_splits=2)\n",
    "\n",
    "# Create the GridSearchCV object\n",
    "grid_search_MLP = GridSearchCV(inner_estimator, param_grid_MLP, cv=tscv, scoring='neg_mean_absolute_error',\n",
    "                              n_jobs = -1)\n",
    "\n",
    "# Fit the GridSearchCV object to the training data\n",
    "grid_search_MLP.fit(X_train, y_train)\n",
    "\n",
    "training_time = time() - start\n",
    "print(training_time/60, ' minutos')"
   ]
  },
  {
   "cell_type": "markdown",
   "id": "77fd456b",
   "metadata": {},
   "source": [
    "### Training"
   ]
  },
  {
   "cell_type": "code",
   "execution_count": 7,
   "id": "60307bcb",
   "metadata": {},
   "outputs": [],
   "source": [
    "best_MLP_score = grid_search_MLP.best_score_\n",
    "best_MLP_model = grid_search_MLP.best_estimator_"
   ]
  },
  {
   "cell_type": "code",
   "execution_count": 8,
   "id": "8b9661e6",
   "metadata": {},
   "outputs": [
    {
     "name": "stdout",
     "output_type": "stream",
     "text": [
      "Model: \"sequential\"\n",
      "_________________________________________________________________\n",
      " Layer (type)                Output Shape              Param #   \n",
      "=================================================================\n",
      " dense (Dense)               (None, 10)                130       \n",
      "                                                                 \n",
      " dense_1 (Dense)             (None, 10)                110       \n",
      "                                                                 \n",
      " dense_2 (Dense)             (None, 6)                 66        \n",
      "                                                                 \n",
      "=================================================================\n",
      "Total params: 306\n",
      "Trainable params: 306\n",
      "Non-trainable params: 0\n",
      "_________________________________________________________________\n"
     ]
    }
   ],
   "source": [
    "best_MLP_model.regressor_.named_steps['mlp'].model_.summary()"
   ]
  },
  {
   "cell_type": "code",
   "execution_count": 9,
   "id": "52f28b52",
   "metadata": {},
   "outputs": [
    {
     "data": {
      "text/plain": [
       "{'regressor__mlp__model__alpha': 0.0001,\n",
       " 'regressor__mlp__model__hidden_layer_sizes': (10, 10)}"
      ]
     },
     "execution_count": 9,
     "metadata": {},
     "output_type": "execute_result"
    }
   ],
   "source": [
    "grid_search_MLP.best_params_"
   ]
  },
  {
   "cell_type": "code",
   "execution_count": 10,
   "id": "81ea53ff",
   "metadata": {},
   "outputs": [
    {
     "data": {
      "text/html": [
       "<style>#sk-container-id-2 {color: black;background-color: white;}#sk-container-id-2 pre{padding: 0;}#sk-container-id-2 div.sk-toggleable {background-color: white;}#sk-container-id-2 label.sk-toggleable__label {cursor: pointer;display: block;width: 100%;margin-bottom: 0;padding: 0.3em;box-sizing: border-box;text-align: center;}#sk-container-id-2 label.sk-toggleable__label-arrow:before {content: \"▸\";float: left;margin-right: 0.25em;color: #696969;}#sk-container-id-2 label.sk-toggleable__label-arrow:hover:before {color: black;}#sk-container-id-2 div.sk-estimator:hover label.sk-toggleable__label-arrow:before {color: black;}#sk-container-id-2 div.sk-toggleable__content {max-height: 0;max-width: 0;overflow: hidden;text-align: left;background-color: #f0f8ff;}#sk-container-id-2 div.sk-toggleable__content pre {margin: 0.2em;color: black;border-radius: 0.25em;background-color: #f0f8ff;}#sk-container-id-2 input.sk-toggleable__control:checked~div.sk-toggleable__content {max-height: 200px;max-width: 100%;overflow: auto;}#sk-container-id-2 input.sk-toggleable__control:checked~label.sk-toggleable__label-arrow:before {content: \"▾\";}#sk-container-id-2 div.sk-estimator input.sk-toggleable__control:checked~label.sk-toggleable__label {background-color: #d4ebff;}#sk-container-id-2 div.sk-label input.sk-toggleable__control:checked~label.sk-toggleable__label {background-color: #d4ebff;}#sk-container-id-2 input.sk-hidden--visually {border: 0;clip: rect(1px 1px 1px 1px);clip: rect(1px, 1px, 1px, 1px);height: 1px;margin: -1px;overflow: hidden;padding: 0;position: absolute;width: 1px;}#sk-container-id-2 div.sk-estimator {font-family: monospace;background-color: #f0f8ff;border: 1px dotted black;border-radius: 0.25em;box-sizing: border-box;margin-bottom: 0.5em;}#sk-container-id-2 div.sk-estimator:hover {background-color: #d4ebff;}#sk-container-id-2 div.sk-parallel-item::after {content: \"\";width: 100%;border-bottom: 1px solid gray;flex-grow: 1;}#sk-container-id-2 div.sk-label:hover label.sk-toggleable__label {background-color: #d4ebff;}#sk-container-id-2 div.sk-serial::before {content: \"\";position: absolute;border-left: 1px solid gray;box-sizing: border-box;top: 0;bottom: 0;left: 50%;z-index: 0;}#sk-container-id-2 div.sk-serial {display: flex;flex-direction: column;align-items: center;background-color: white;padding-right: 0.2em;padding-left: 0.2em;position: relative;}#sk-container-id-2 div.sk-item {position: relative;z-index: 1;}#sk-container-id-2 div.sk-parallel {display: flex;align-items: stretch;justify-content: center;background-color: white;position: relative;}#sk-container-id-2 div.sk-item::before, #sk-container-id-2 div.sk-parallel-item::before {content: \"\";position: absolute;border-left: 1px solid gray;box-sizing: border-box;top: 0;bottom: 0;left: 50%;z-index: -1;}#sk-container-id-2 div.sk-parallel-item {display: flex;flex-direction: column;z-index: 1;position: relative;background-color: white;}#sk-container-id-2 div.sk-parallel-item:first-child::after {align-self: flex-end;width: 50%;}#sk-container-id-2 div.sk-parallel-item:last-child::after {align-self: flex-start;width: 50%;}#sk-container-id-2 div.sk-parallel-item:only-child::after {width: 0;}#sk-container-id-2 div.sk-dashed-wrapped {border: 1px dashed gray;margin: 0 0.4em 0.5em 0.4em;box-sizing: border-box;padding-bottom: 0.4em;background-color: white;}#sk-container-id-2 div.sk-label label {font-family: monospace;font-weight: bold;display: inline-block;line-height: 1.2em;}#sk-container-id-2 div.sk-label-container {text-align: center;}#sk-container-id-2 div.sk-container {/* jupyter's `normalize.less` sets `[hidden] { display: none; }` but bootstrap.min.css set `[hidden] { display: none !important; }` so we also need the `!important` here to be able to override the default hidden behavior on the sphinx rendered scikit-learn.org. See: https://github.com/scikit-learn/scikit-learn/issues/21755 */display: inline-block !important;position: relative;}#sk-container-id-2 div.sk-text-repr-fallback {display: none;}</style><div id=\"sk-container-id-2\" class=\"sk-top-container\"><div class=\"sk-text-repr-fallback\"><pre>TransformedTargetRegressor(regressor=Pipeline(steps=[(&#x27;std_sc&#x27;,\n",
       "                                                      StandardScaler()),\n",
       "                                                     (&#x27;mlp&#x27;,\n",
       "                                                      KerasRegressor(batch_size=-1, epochs=12000, loss=&#x27;mean_absolute_error&#x27;, model=&lt;function get_MLP at 0x00000152EBCBA8B0&gt;, model__alpha=0.0001, model__hidden_layer_sizes=(10, 10), optimizer=&#x27;adam&#x27;, shuffle=False, verbose=0))]),\n",
       "                           transformer=StandardScaler())</pre><b>In a Jupyter environment, please rerun this cell to show the HTML representation or trust the notebook. <br />On GitHub, the HTML representation is unable to render, please try loading this page with nbviewer.org.</b></div><div class=\"sk-container\" hidden><div class=\"sk-item sk-dashed-wrapped\"><div class=\"sk-label-container\"><div class=\"sk-label sk-toggleable\"><input class=\"sk-toggleable__control sk-hidden--visually\" id=\"sk-estimator-id-8\" type=\"checkbox\" ><label for=\"sk-estimator-id-8\" class=\"sk-toggleable__label sk-toggleable__label-arrow\">TransformedTargetRegressor</label><div class=\"sk-toggleable__content\"><pre>TransformedTargetRegressor(regressor=Pipeline(steps=[(&#x27;std_sc&#x27;,\n",
       "                                                      StandardScaler()),\n",
       "                                                     (&#x27;mlp&#x27;,\n",
       "                                                      KerasRegressor(batch_size=-1, epochs=12000, loss=&#x27;mean_absolute_error&#x27;, model=&lt;function get_MLP at 0x00000152EBCBA8B0&gt;, model__alpha=0.0001, model__hidden_layer_sizes=(10, 10), optimizer=&#x27;adam&#x27;, shuffle=False, verbose=0))]),\n",
       "                           transformer=StandardScaler())</pre></div></div></div><div class=\"sk-parallel\"><div class=\"sk-parallel-item\"><div class=\"sk-item\"><div class=\"sk-label-container\"><div class=\"sk-label sk-toggleable\"><input class=\"sk-toggleable__control sk-hidden--visually\" id=\"sk-estimator-id-9\" type=\"checkbox\" ><label for=\"sk-estimator-id-9\" class=\"sk-toggleable__label sk-toggleable__label-arrow\">regressor: Pipeline</label><div class=\"sk-toggleable__content\"><pre>Pipeline(steps=[(&#x27;std_sc&#x27;, StandardScaler()),\n",
       "                (&#x27;mlp&#x27;,\n",
       "                 KerasRegressor(batch_size=-1, epochs=12000, loss=&#x27;mean_absolute_error&#x27;, model=&lt;function get_MLP at 0x00000152EBCBA8B0&gt;, model__alpha=0.0001, model__hidden_layer_sizes=(10, 10), optimizer=&#x27;adam&#x27;, shuffle=False, verbose=0))])</pre></div></div></div><div class=\"sk-serial\"><div class=\"sk-item\"><div class=\"sk-serial\"><div class=\"sk-item\"><div class=\"sk-estimator sk-toggleable\"><input class=\"sk-toggleable__control sk-hidden--visually\" id=\"sk-estimator-id-10\" type=\"checkbox\" ><label for=\"sk-estimator-id-10\" class=\"sk-toggleable__label sk-toggleable__label-arrow\">StandardScaler</label><div class=\"sk-toggleable__content\"><pre>StandardScaler()</pre></div></div></div><div class=\"sk-item\"><div class=\"sk-estimator sk-toggleable\"><input class=\"sk-toggleable__control sk-hidden--visually\" id=\"sk-estimator-id-11\" type=\"checkbox\" ><label for=\"sk-estimator-id-11\" class=\"sk-toggleable__label sk-toggleable__label-arrow\">KerasRegressor</label><div class=\"sk-toggleable__content\"><pre>KerasRegressor(\n",
       "\tmodel=&lt;function get_MLP at 0x00000152EBCBA8B0&gt;\n",
       "\tbuild_fn=None\n",
       "\twarm_start=False\n",
       "\trandom_state=None\n",
       "\toptimizer=adam\n",
       "\tloss=mean_absolute_error\n",
       "\tmetrics=None\n",
       "\tbatch_size=-1\n",
       "\tvalidation_batch_size=None\n",
       "\tverbose=0\n",
       "\tcallbacks=None\n",
       "\tvalidation_split=0.0\n",
       "\tshuffle=False\n",
       "\trun_eagerly=False\n",
       "\tepochs=12000\n",
       "\tmodel__alpha=0.0001\n",
       "\tmodel__hidden_layer_sizes=(10, 10)\n",
       ")</pre></div></div></div></div></div></div></div></div><div class=\"sk-parallel-item\"><div class=\"sk-item\"><div class=\"sk-label-container\"><div class=\"sk-label sk-toggleable\"><input class=\"sk-toggleable__control sk-hidden--visually\" id=\"sk-estimator-id-12\" type=\"checkbox\" ><label for=\"sk-estimator-id-12\" class=\"sk-toggleable__label sk-toggleable__label-arrow\">transformer: StandardScaler</label><div class=\"sk-toggleable__content\"><pre>StandardScaler()</pre></div></div></div><div class=\"sk-serial\"><div class=\"sk-item\"><div class=\"sk-estimator sk-toggleable\"><input class=\"sk-toggleable__control sk-hidden--visually\" id=\"sk-estimator-id-13\" type=\"checkbox\" ><label for=\"sk-estimator-id-13\" class=\"sk-toggleable__label sk-toggleable__label-arrow\">StandardScaler</label><div class=\"sk-toggleable__content\"><pre>StandardScaler()</pre></div></div></div></div></div></div></div></div></div></div>"
      ],
      "text/plain": [
       "TransformedTargetRegressor(regressor=Pipeline(steps=[('std_sc',\n",
       "                                                      StandardScaler()),\n",
       "                                                     ('mlp',\n",
       "                                                      KerasRegressor(batch_size=-1, epochs=12000, loss='mean_absolute_error', model=<function get_MLP at 0x00000152EBCBA8B0>, model__alpha=0.0001, model__hidden_layer_sizes=(10, 10), optimizer='adam', shuffle=False, verbose=0))]),\n",
       "                           transformer=StandardScaler())"
      ]
     },
     "execution_count": 10,
     "metadata": {},
     "output_type": "execute_result"
    }
   ],
   "source": [
    "best_MLP_model"
   ]
  },
  {
   "cell_type": "code",
   "execution_count": 11,
   "id": "6c8cb701",
   "metadata": {},
   "outputs": [],
   "source": [
    "# best_MLP_model.regressor_.named_steps['mlp'].history_"
   ]
  },
  {
   "cell_type": "code",
   "execution_count": 12,
   "id": "9ace1f5f",
   "metadata": {},
   "outputs": [
    {
     "data": {
      "text/plain": [
       "[<matplotlib.lines.Line2D at 0x152ebe20670>]"
      ]
     },
     "execution_count": 12,
     "metadata": {},
     "output_type": "execute_result"
    },
    {
     "data": {
      "image/png": "[encoded data removed]",
      "text/plain": [
       "<Figure size 1080x720 with 1 Axes>"
      ]
     },
     "metadata": {
      "needs_background": "light"
     },
     "output_type": "display_data"
    }
   ],
   "source": [
    "plt.figure(figsize=(15,10))\n",
    "plt.plot(best_MLP_model.regressor_.named_steps['mlp'].history_['loss'])\n",
    "# dir(best_MLP_model.regressor_.named_steps['mlp'].history_.values)"
   ]
  },
  {
   "cell_type": "markdown",
   "id": "d6090cda",
   "metadata": {},
   "source": [
    "### Forecasting"
   ]
  },
  {
   "cell_type": "code",
   "execution_count": 13,
   "id": "be578182",
   "metadata": {},
   "outputs": [],
   "source": [
    "y_pred_MLP = best_MLP_model.predict(X_test)"
   ]
  },
  {
   "cell_type": "code",
   "execution_count": 14,
   "id": "0b2bdc69",
   "metadata": {},
   "outputs": [
    {
     "data": {
      "text/html": [
       "<div>\n",
       "<style scoped>\n",
       "    .dataframe tbody tr th:only-of-type {\n",
       "        vertical-align: middle;\n",
       "    }\n",
       "\n",
       "    .dataframe tbody tr th {\n",
       "        vertical-align: top;\n",
       "    }\n",
       "\n",
       "    .dataframe thead th {\n",
       "        text-align: right;\n",
       "    }\n",
       "</style>\n",
       "<table border=\"1\" class=\"dataframe\">\n",
       "  <thead>\n",
       "    <tr style=\"text-align: right;\">\n",
       "      <th></th>\n",
       "      <th>t+1</th>\n",
       "      <th>t+2</th>\n",
       "      <th>t+3</th>\n",
       "      <th>t+4</th>\n",
       "      <th>t+5</th>\n",
       "      <th>t+6</th>\n",
       "    </tr>\n",
       "  </thead>\n",
       "  <tbody>\n",
       "    <tr>\n",
       "      <th>0</th>\n",
       "      <td>0.143847</td>\n",
       "      <td>0.135163</td>\n",
       "      <td>0.129183</td>\n",
       "      <td>0.125128</td>\n",
       "      <td>0.124252</td>\n",
       "      <td>0.124581</td>\n",
       "    </tr>\n",
       "    <tr>\n",
       "      <th>1</th>\n",
       "      <td>0.140946</td>\n",
       "      <td>0.136421</td>\n",
       "      <td>0.133626</td>\n",
       "      <td>0.132169</td>\n",
       "      <td>0.132711</td>\n",
       "      <td>0.134011</td>\n",
       "    </tr>\n",
       "    <tr>\n",
       "      <th>2</th>\n",
       "      <td>0.137780</td>\n",
       "      <td>0.135293</td>\n",
       "      <td>0.134012</td>\n",
       "      <td>0.133676</td>\n",
       "      <td>0.134645</td>\n",
       "      <td>0.136183</td>\n",
       "    </tr>\n",
       "    <tr>\n",
       "      <th>3</th>\n",
       "      <td>0.182400</td>\n",
       "      <td>0.195784</td>\n",
       "      <td>0.206139</td>\n",
       "      <td>0.214013</td>\n",
       "      <td>0.218381</td>\n",
       "      <td>0.221259</td>\n",
       "    </tr>\n",
       "    <tr>\n",
       "      <th>4</th>\n",
       "      <td>0.178224</td>\n",
       "      <td>0.186145</td>\n",
       "      <td>0.192252</td>\n",
       "      <td>0.196771</td>\n",
       "      <td>0.199332</td>\n",
       "      <td>0.200992</td>\n",
       "    </tr>\n",
       "    <tr>\n",
       "      <th>...</th>\n",
       "      <td>...</td>\n",
       "      <td>...</td>\n",
       "      <td>...</td>\n",
       "      <td>...</td>\n",
       "      <td>...</td>\n",
       "      <td>...</td>\n",
       "    </tr>\n",
       "    <tr>\n",
       "      <th>8737</th>\n",
       "      <td>0.218258</td>\n",
       "      <td>0.228363</td>\n",
       "      <td>0.235362</td>\n",
       "      <td>0.239156</td>\n",
       "      <td>0.239717</td>\n",
       "      <td>0.238216</td>\n",
       "    </tr>\n",
       "    <tr>\n",
       "      <th>8738</th>\n",
       "      <td>0.221312</td>\n",
       "      <td>0.227199</td>\n",
       "      <td>0.230929</td>\n",
       "      <td>0.232045</td>\n",
       "      <td>0.230779</td>\n",
       "      <td>0.228124</td>\n",
       "    </tr>\n",
       "    <tr>\n",
       "      <th>8739</th>\n",
       "      <td>0.246970</td>\n",
       "      <td>0.253482</td>\n",
       "      <td>0.257066</td>\n",
       "      <td>0.257603</td>\n",
       "      <td>0.255172</td>\n",
       "      <td>0.251560</td>\n",
       "    </tr>\n",
       "    <tr>\n",
       "      <th>8740</th>\n",
       "      <td>0.323359</td>\n",
       "      <td>0.343562</td>\n",
       "      <td>0.357294</td>\n",
       "      <td>0.364849</td>\n",
       "      <td>0.365978</td>\n",
       "      <td>0.363497</td>\n",
       "    </tr>\n",
       "    <tr>\n",
       "      <th>8741</th>\n",
       "      <td>0.317547</td>\n",
       "      <td>0.324472</td>\n",
       "      <td>0.327648</td>\n",
       "      <td>0.327570</td>\n",
       "      <td>0.324214</td>\n",
       "      <td>0.319584</td>\n",
       "    </tr>\n",
       "  </tbody>\n",
       "</table>\n",
       "<p>8742 rows × 6 columns</p>\n",
       "</div>"
      ],
      "text/plain": [
       "           t+1       t+2       t+3       t+4       t+5       t+6\n",
       "0     0.143847  0.135163  0.129183  0.125128  0.124252  0.124581\n",
       "1     0.140946  0.136421  0.133626  0.132169  0.132711  0.134011\n",
       "2     0.137780  0.135293  0.134012  0.133676  0.134645  0.136183\n",
       "3     0.182400  0.195784  0.206139  0.214013  0.218381  0.221259\n",
       "4     0.178224  0.186145  0.192252  0.196771  0.199332  0.200992\n",
       "...        ...       ...       ...       ...       ...       ...\n",
       "8737  0.218258  0.228363  0.235362  0.239156  0.239717  0.238216\n",
       "8738  0.221312  0.227199  0.230929  0.232045  0.230779  0.228124\n",
       "8739  0.246970  0.253482  0.257066  0.257603  0.255172  0.251560\n",
       "8740  0.323359  0.343562  0.357294  0.364849  0.365978  0.363497\n",
       "8741  0.317547  0.324472  0.327648  0.327570  0.324214  0.319584\n",
       "\n",
       "[8742 rows x 6 columns]"
      ]
     },
     "execution_count": 14,
     "metadata": {},
     "output_type": "execute_result"
    }
   ],
   "source": [
    "df_y_pred_MLP = pd.DataFrame(y_pred_MLP, columns=['t+1', 't+2', 't+3', 't+4', 't+5', 't+6'])\n",
    "df_y_pred_MLP"
   ]
  },
  {
   "cell_type": "code",
   "execution_count": 15,
   "id": "c653d2ac",
   "metadata": {},
   "outputs": [],
   "source": [
    "MAE_MLP_t1=metrics.mean_absolute_error(y_test['(t+1)'], df_y_pred_MLP['t+1'])\n",
    "MAE_MLP_t2=metrics.mean_absolute_error(y_test['(t+2)'], df_y_pred_MLP['t+2'])\n",
    "MAE_MLP_t3=metrics.mean_absolute_error(y_test['(t+3)'], df_y_pred_MLP['t+3'])\n",
    "MAE_MLP_t4=metrics.mean_absolute_error(y_test['(t+4)'], df_y_pred_MLP['t+4'])\n",
    "MAE_MLP_t5=metrics.mean_absolute_error(y_test['(t+5)'], df_y_pred_MLP['t+5'])\n",
    "MAE_MLP_t6=metrics.mean_absolute_error(y_test['(t+6)'], df_y_pred_MLP['t+6'])"
   ]
  },
  {
   "cell_type": "code",
   "execution_count": 16,
   "id": "2946770b",
   "metadata": {
    "scrolled": true
   },
   "outputs": [
    {
     "name": "stdout",
     "output_type": "stream",
     "text": [
      "MAE en t+1: 0.83%\n",
      "MAE en t+2: 1.68%\n",
      "MAE en t+3: 2.49%\n",
      "MAE en t+4: 3.25%\n",
      "MAE en t+5: 3.95%\n",
      "MAE en t+6: 4.57%\n"
     ]
    }
   ],
   "source": [
    "print('MAE en t+1: {:2.2%}'.format(MAE_MLP_t1))\n",
    "print('MAE en t+2: {:2.2%}'.format(MAE_MLP_t2))\n",
    "print('MAE en t+3: {:2.2%}'.format(MAE_MLP_t3))\n",
    "print('MAE en t+4: {:2.2%}'.format(MAE_MLP_t4))\n",
    "print('MAE en t+5: {:2.2%}'.format(MAE_MLP_t5))\n",
    "print('MAE en t+6: {:2.2%}'.format(MAE_MLP_t6))"
   ]
  },
  {
   "cell_type": "markdown",
   "id": "257f7c95",
   "metadata": {},
   "source": [
    "MAE en t+1: 0.83%\n",
    "MAE en t+2: 1.69%\n",
    "MAE en t+3: 2.50%\n",
    "MAE en t+4: 3.27%\n",
    "MAE en t+5: 3.97%\n",
    "MAE en t+6: 4.60%"
   ]
  },
  {
   "cell_type": "markdown",
   "id": "63a9292f",
   "metadata": {},
   "source": [
    "# Guardar el modelo"
   ]
  },
  {
   "cell_type": "code",
   "execution_count": 17,
   "id": "7d091c66",
   "metadata": {},
   "outputs": [
    {
     "name": "stdout",
     "output_type": "stream",
     "text": [
      "INFO:tensorflow:Assets written to: C:\\Users\\vmore\\AppData\\Local\\Temp\\tmpwfs5tanv\\assets\n"
     ]
    },
    {
     "data": {
      "text/plain": [
       "['modelos/MLP_scikeras_model2.joblib']"
      ]
     },
     "execution_count": 17,
     "metadata": {},
     "output_type": "execute_result"
    }
   ],
   "source": [
    "# best_MLP_model.regressor_.named_steps['mlp'].model_.save('modelos/MLP_scikeras_model.h5')\n",
    "joblib.dump(best_MLP_model, \"modelos/MLP_scikeras_model2.joblib\")"
   ]
  },
  {
   "cell_type": "markdown",
   "id": "6bb3bbfb",
   "metadata": {},
   "source": [
    "# Cargar el modelo"
   ]
  },
  {
   "cell_type": "code",
   "execution_count": 18,
   "id": "27b33e0d",
   "metadata": {},
   "outputs": [],
   "source": [
    "# loaded_MLP = keras.models.load_model('modelos/MLP_scikeras_model.h5')\n",
    "# loaded_MLP = joblib.load(\"modelos/MLP_scikeras_model2.joblib\")"
   ]
  },
  {
   "cell_type": "code",
   "execution_count": 19,
   "id": "85a774b8",
   "metadata": {},
   "outputs": [],
   "source": [
    "# y_pred_MLP_loaded = loaded_MLP.predict(X_test)"
   ]
  },
  {
   "cell_type": "code",
   "execution_count": 20,
   "id": "3e8b5f88",
   "metadata": {},
   "outputs": [],
   "source": [
    "# y_pred_MLP_loaded"
   ]
  },
  {
   "cell_type": "code",
   "execution_count": 21,
   "id": "fcf77cf7",
   "metadata": {},
   "outputs": [],
   "source": [
    "# loaded_MLP.summary()"
   ]
  }
 ],
 "metadata": {
  "kernelspec": {
   "display_name": "Python 3 (ipykernel)",
   "language": "python",
   "name": "python3"
  },
  "language_info": {
   "codemirror_mode": {
    "name": "ipython",
    "version": 3
   },
   "file_extension": ".py",
   "mimetype": "text/x-python",
   "name": "python",
   "nbconvert_exporter": "python",
   "pygments_lexer": "ipython3",
   "version": "3.8.5"
  }
 },
 "nbformat": 4,
 "nbformat_minor": 5
}
