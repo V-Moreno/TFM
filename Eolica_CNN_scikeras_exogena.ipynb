{
 "cells": [
  {
   "cell_type": "markdown",
   "id": "abe6a5bb",
   "metadata": {},
   "source": [
    "# Imports"
   ]
  },
  {
   "cell_type": "code",
   "execution_count": 1,
   "id": "c157a9f6",
   "metadata": {},
   "outputs": [],
   "source": [
    "import scikeras"
   ]
  },
  {
   "cell_type": "code",
   "execution_count": 2,
   "id": "af0bd758",
   "metadata": {},
   "outputs": [],
   "source": [
    "import pandas as pd\n",
    "import numpy as np\n",
    "from scikeras.wrappers import KerasRegressor\n",
    "from tensorflow import keras\n",
    "import joblib\n",
    "from plotly.subplots import make_subplots\n",
    "import plotly.graph_objects as go\n",
    "import plotly.express as px\n",
    "# import plotly.offline as pyo\n",
    "\n",
    "import plotly.io as pio\n",
    "pio.renderers.default='notebook'\n",
    "\n",
    "import matplotlib.pyplot as plt\n",
    "# pyo.init_notebook_mode()\n",
    "\n",
    "from time import time"
   ]
  },
  {
   "cell_type": "code",
   "execution_count": 3,
   "id": "ac2cc1c6",
   "metadata": {},
   "outputs": [],
   "source": [
    "import sklearn.metrics as metrics\n",
    "from sklearn.model_selection import GridSearchCV\n",
    "from sklearn.model_selection import TimeSeriesSplit\n",
    "from sklearn.preprocessing import StandardScaler\n",
    "from sklearn.pipeline import Pipeline\n",
    "# from sklearn.neural_network import MLPRegressor\n",
    "from sklearn.compose import TransformedTargetRegressor"
   ]
  },
  {
   "cell_type": "markdown",
   "id": "fe5a61a1",
   "metadata": {},
   "source": [
    "# Cargar datasets"
   ]
  },
  {
   "cell_type": "code",
   "execution_count": 4,
   "id": "15733a0b",
   "metadata": {},
   "outputs": [],
   "source": [
    "X_train = pd.read_csv('C:/Users/vmore/notebooks/TFM/Modelos eolica/datos_exogena/X_train_2y.csv', parse_dates=[0], index_col='datetime_utc')\n",
    "y_train = pd.read_csv('C:/Users/vmore/notebooks/TFM/Modelos eolica/datos_exogena/y_train_2y.csv', parse_dates=[0], index_col='datetime_utc')\n",
    "X_test = pd.read_csv('C:/Users/vmore/notebooks/TFM/Modelos eolica/datos_exogena/X_test.csv', parse_dates=[0], index_col='datetime_utc')\n",
    "y_test = pd.read_csv('C:/Users/vmore/notebooks/TFM/Modelos eolica/datos_exogena/y_test.csv', parse_dates=[0], index_col='datetime_utc')\n",
    "test_data = pd.read_csv('C:/Users/vmore/notebooks/TFM/Modelos eolica/datos_exogena/test_data.csv', parse_dates=[0], index_col='datetime_utc')"
   ]
  },
  {
   "cell_type": "markdown",
   "id": "1b98c406",
   "metadata": {},
   "source": [
    "# Reordenar el input para ajustarlo a los nuevos canales de la convolucional"
   ]
  },
  {
   "cell_type": "code",
   "execution_count": 5,
   "id": "27de6517",
   "metadata": {},
   "outputs": [],
   "source": [
    "percentage_columns = [col for col in X_train.columns if 'percentage' in col]\n",
    "wind_columns = [col for col in X_train.columns if 'wind' in col]\n",
    "new_column_order = percentage_columns + wind_columns"
   ]
  },
  {
   "cell_type": "code",
   "execution_count": 6,
   "id": "446d0f55",
   "metadata": {},
   "outputs": [
    {
     "data": {
      "text/plain": [
       "['percentage(t-11)',\n",
       " 'percentage(t-10)',\n",
       " 'percentage(t-9)',\n",
       " 'percentage(t-8)',\n",
       " 'percentage(t-7)',\n",
       " 'percentage(t-6)',\n",
       " 'percentage(t-5)',\n",
       " 'percentage(t-4)',\n",
       " 'percentage(t-3)',\n",
       " 'percentage(t-2)',\n",
       " 'percentage(t-1)',\n",
       " 'percentage(t)',\n",
       " 'wind_100(t-11)',\n",
       " 'wind_100(t-10)',\n",
       " 'wind_100(t-9)',\n",
       " 'wind_100(t-8)',\n",
       " 'wind_100(t-7)',\n",
       " 'wind_100(t-6)',\n",
       " 'wind_100(t-5)',\n",
       " 'wind_100(t-4)',\n",
       " 'wind_100(t-3)',\n",
       " 'wind_100(t-2)',\n",
       " 'wind_100(t-1)',\n",
       " 'wind_100(t)',\n",
       " 'wind_100(t+1)',\n",
       " 'wind_100(t+2)',\n",
       " 'wind_100(t+3)',\n",
       " 'wind_100(t+4)',\n",
       " 'wind_100(t+5)',\n",
       " 'wind_100(t+6)']"
      ]
     },
     "execution_count": 6,
     "metadata": {},
     "output_type": "execute_result"
    }
   ],
   "source": [
    "new_column_order"
   ]
  },
  {
   "cell_type": "code",
   "execution_count": 7,
   "id": "9a978019",
   "metadata": {},
   "outputs": [],
   "source": [
    "X_train = X_train[new_column_order]\n",
    "X_test = X_test[new_column_order]"
   ]
  },
  {
   "cell_type": "markdown",
   "id": "8845a54a",
   "metadata": {},
   "source": [
    "# 4. CNN keras"
   ]
  },
  {
   "cell_type": "code",
   "execution_count": 8,
   "id": "52cd49ab",
   "metadata": {},
   "outputs": [
    {
     "name": "stdout",
     "output_type": "stream",
     "text": [
      "71.67490255832672  minutos\n"
     ]
    }
   ],
   "source": [
    "start = time()\n",
    "def get_CNN(n_conv_layers, hidden_layer_sizes, alpha, n_filters, kernel_size):\n",
    "    target_shape = (6, 5) # reshape a (6, 5)\n",
    "    input_shape=(30,)\n",
    "    model = keras.Sequential()\n",
    "    model.add(keras.layers.Reshape(target_shape, input_shape=input_shape))\n",
    "    \n",
    "    for i in range(n_conv_layers):\n",
    "        model.add(keras.layers.Conv1D(input_shape=target_shape, filters=n_filters, kernel_size=kernel_size,\n",
    "                                      padding='causal', activation='relu', kernel_regularizer=keras.regularizers.L2(alpha)))\n",
    "        model.add(keras.layers.AveragePooling1D(pool_size=2, strides=1))\n",
    "        target_shape=(input_shape[0]-kernel_size+1, n_filters)\n",
    "        \n",
    "    model.add(keras.layers.Flatten())\n",
    "    \n",
    "    for hidden_layer_size in hidden_layer_sizes:\n",
    "        layer = keras.layers.Dense(hidden_layer_size, activation=\"relu\", kernel_regularizer=keras.regularizers.L2(alpha),)\n",
    "        model.add(layer)\n",
    "    out = keras.layers.Dense(6, kernel_regularizer=keras.regularizers.L2(alpha),)\n",
    "    model.add(out)\n",
    "    return model\n",
    "\n",
    "cnn = KerasRegressor(\n",
    "    model=get_CNN,\n",
    "    loss=\"mean_absolute_error\",\n",
    "    optimizer='adam',\n",
    "    epochs=12000,\n",
    "    verbose=0,\n",
    "    shuffle=False,\n",
    "    batch_size=-1,\n",
    ")\n",
    "\n",
    "cnn_pipeline = Pipeline(steps=[('std_sc', StandardScaler()),\n",
    "                               ('cnn', cnn)])\n",
    "\n",
    "y_transformer = StandardScaler()\n",
    "inner_estimator = TransformedTargetRegressor(regressor=cnn_pipeline,\n",
    "                                             transformer=y_transformer)\n",
    "\n",
    "param_grid_CNN = {'regressor__cnn__model__n_conv_layers': [1, 2],\n",
    "                  'regressor__cnn__model__n_filters': [4, 6],\n",
    "                  'regressor__cnn__model__alpha': [0.0001, 0.001, 0.01],\n",
    "#                   'regressor__cnn__model__hidden_layer_sizes': [(60,60), (120,120),],\n",
    "                  'regressor__cnn__model__hidden_layer_sizes': [(10,10), (30,30),],\n",
    "                  'regressor__cnn__model__kernel_size': [2, 3],\n",
    "                 }\n",
    "\n",
    "# TimeSeries Cross validation\n",
    "tscv = TimeSeriesSplit(n_splits=2)\n",
    "\n",
    "# Create the GridSearchCV object\n",
    "grid_search_CNN = GridSearchCV(inner_estimator, param_grid_CNN, cv=tscv, scoring='neg_mean_absolute_error',\n",
    "                              n_jobs = -1)\n",
    "\n",
    "# Fit the GridSearchCV object to the training data\n",
    "grid_search_CNN.fit(X_train, y_train)\n",
    "\n",
    "training_time = time() - start\n",
    "print(training_time/60, ' minutos')"
   ]
  },
  {
   "cell_type": "markdown",
   "id": "502d44d8",
   "metadata": {},
   "source": [
    "### Training"
   ]
  },
  {
   "cell_type": "code",
   "execution_count": 9,
   "id": "38624fd7",
   "metadata": {},
   "outputs": [],
   "source": [
    "best_CNN_score = grid_search_CNN.best_score_\n",
    "best_CNN_model = grid_search_CNN.best_estimator_"
   ]
  },
  {
   "cell_type": "code",
   "execution_count": 10,
   "id": "649cdc28",
   "metadata": {},
   "outputs": [
    {
     "name": "stdout",
     "output_type": "stream",
     "text": [
      "Model: \"sequential\"\n",
      "_________________________________________________________________\n",
      " Layer (type)                Output Shape              Param #   \n",
      "=================================================================\n",
      " reshape (Reshape)           (None, 6, 5)              0         \n",
      "                                                                 \n",
      " conv1d (Conv1D)             (None, 6, 4)              64        \n",
      "                                                                 \n",
      " average_pooling1d (AverageP  (None, 5, 4)             0         \n",
      " ooling1D)                                                       \n",
      "                                                                 \n",
      " flatten (Flatten)           (None, 20)                0         \n",
      "                                                                 \n",
      " dense (Dense)               (None, 10)                210       \n",
      "                                                                 \n",
      " dense_1 (Dense)             (None, 10)                110       \n",
      "                                                                 \n",
      " dense_2 (Dense)             (None, 6)                 66        \n",
      "                                                                 \n",
      "=================================================================\n",
      "Total params: 450\n",
      "Trainable params: 450\n",
      "Non-trainable params: 0\n",
      "_________________________________________________________________\n"
     ]
    }
   ],
   "source": [
    "best_CNN_model.regressor_.named_steps['cnn'].model_.summary()"
   ]
  },
  {
   "cell_type": "code",
   "execution_count": 11,
   "id": "a711e08e",
   "metadata": {},
   "outputs": [
    {
     "data": {
      "text/plain": [
       "{'regressor__cnn__model__alpha': 0.0001,\n",
       " 'regressor__cnn__model__hidden_layer_sizes': (10, 10),\n",
       " 'regressor__cnn__model__kernel_size': 3,\n",
       " 'regressor__cnn__model__n_conv_layers': 1,\n",
       " 'regressor__cnn__model__n_filters': 4}"
      ]
     },
     "execution_count": 11,
     "metadata": {},
     "output_type": "execute_result"
    }
   ],
   "source": [
    "grid_search_CNN.best_params_"
   ]
  },
  {
   "cell_type": "code",
   "execution_count": 12,
   "id": "fa1678a8",
   "metadata": {},
   "outputs": [
    {
     "data": {
      "text/html": [
       "<style>#sk-container-id-1 {color: black;background-color: white;}#sk-container-id-1 pre{padding: 0;}#sk-container-id-1 div.sk-toggleable {background-color: white;}#sk-container-id-1 label.sk-toggleable__label {cursor: pointer;display: block;width: 100%;margin-bottom: 0;padding: 0.3em;box-sizing: border-box;text-align: center;}#sk-container-id-1 label.sk-toggleable__label-arrow:before {content: \"▸\";float: left;margin-right: 0.25em;color: #696969;}#sk-container-id-1 label.sk-toggleable__label-arrow:hover:before {color: black;}#sk-container-id-1 div.sk-estimator:hover label.sk-toggleable__label-arrow:before {color: black;}#sk-container-id-1 div.sk-toggleable__content {max-height: 0;max-width: 0;overflow: hidden;text-align: left;background-color: #f0f8ff;}#sk-container-id-1 div.sk-toggleable__content pre {margin: 0.2em;color: black;border-radius: 0.25em;background-color: #f0f8ff;}#sk-container-id-1 input.sk-toggleable__control:checked~div.sk-toggleable__content {max-height: 200px;max-width: 100%;overflow: auto;}#sk-container-id-1 input.sk-toggleable__control:checked~label.sk-toggleable__label-arrow:before {content: \"▾\";}#sk-container-id-1 div.sk-estimator input.sk-toggleable__control:checked~label.sk-toggleable__label {background-color: #d4ebff;}#sk-container-id-1 div.sk-label input.sk-toggleable__control:checked~label.sk-toggleable__label {background-color: #d4ebff;}#sk-container-id-1 input.sk-hidden--visually {border: 0;clip: rect(1px 1px 1px 1px);clip: rect(1px, 1px, 1px, 1px);height: 1px;margin: -1px;overflow: hidden;padding: 0;position: absolute;width: 1px;}#sk-container-id-1 div.sk-estimator {font-family: monospace;background-color: #f0f8ff;border: 1px dotted black;border-radius: 0.25em;box-sizing: border-box;margin-bottom: 0.5em;}#sk-container-id-1 div.sk-estimator:hover {background-color: #d4ebff;}#sk-container-id-1 div.sk-parallel-item::after {content: \"\";width: 100%;border-bottom: 1px solid gray;flex-grow: 1;}#sk-container-id-1 div.sk-label:hover label.sk-toggleable__label {background-color: #d4ebff;}#sk-container-id-1 div.sk-serial::before {content: \"\";position: absolute;border-left: 1px solid gray;box-sizing: border-box;top: 0;bottom: 0;left: 50%;z-index: 0;}#sk-container-id-1 div.sk-serial {display: flex;flex-direction: column;align-items: center;background-color: white;padding-right: 0.2em;padding-left: 0.2em;position: relative;}#sk-container-id-1 div.sk-item {position: relative;z-index: 1;}#sk-container-id-1 div.sk-parallel {display: flex;align-items: stretch;justify-content: center;background-color: white;position: relative;}#sk-container-id-1 div.sk-item::before, #sk-container-id-1 div.sk-parallel-item::before {content: \"\";position: absolute;border-left: 1px solid gray;box-sizing: border-box;top: 0;bottom: 0;left: 50%;z-index: -1;}#sk-container-id-1 div.sk-parallel-item {display: flex;flex-direction: column;z-index: 1;position: relative;background-color: white;}#sk-container-id-1 div.sk-parallel-item:first-child::after {align-self: flex-end;width: 50%;}#sk-container-id-1 div.sk-parallel-item:last-child::after {align-self: flex-start;width: 50%;}#sk-container-id-1 div.sk-parallel-item:only-child::after {width: 0;}#sk-container-id-1 div.sk-dashed-wrapped {border: 1px dashed gray;margin: 0 0.4em 0.5em 0.4em;box-sizing: border-box;padding-bottom: 0.4em;background-color: white;}#sk-container-id-1 div.sk-label label {font-family: monospace;font-weight: bold;display: inline-block;line-height: 1.2em;}#sk-container-id-1 div.sk-label-container {text-align: center;}#sk-container-id-1 div.sk-container {/* jupyter's `normalize.less` sets `[hidden] { display: none; }` but bootstrap.min.css set `[hidden] { display: none !important; }` so we also need the `!important` here to be able to override the default hidden behavior on the sphinx rendered scikit-learn.org. See: https://github.com/scikit-learn/scikit-learn/issues/21755 */display: inline-block !important;position: relative;}#sk-container-id-1 div.sk-text-repr-fallback {display: none;}</style><div id=\"sk-container-id-1\" class=\"sk-top-container\"><div class=\"sk-text-repr-fallback\"><pre>TransformedTargetRegressor(regressor=Pipeline(steps=[(&#x27;std_sc&#x27;,\n",
       "                                                      StandardScaler()),\n",
       "                                                     (&#x27;cnn&#x27;,\n",
       "                                                      KerasRegressor(batch_size=-1, epochs=12000, loss=&#x27;mean_absolute_error&#x27;, model=&lt;function get_CNN at 0x0000020DC18DF310&gt;, model__alpha=0.0001, model__hidden_layer_sizes=(10, 10), model__kernel_size=3, model__n_conv_layers=1, model__n_filters=4, optimizer=&#x27;adam&#x27;, shuffle=False, verbose=0))]),\n",
       "                           transformer=StandardScaler())</pre><b>In a Jupyter environment, please rerun this cell to show the HTML representation or trust the notebook. <br />On GitHub, the HTML representation is unable to render, please try loading this page with nbviewer.org.</b></div><div class=\"sk-container\" hidden><div class=\"sk-item sk-dashed-wrapped\"><div class=\"sk-label-container\"><div class=\"sk-label sk-toggleable\"><input class=\"sk-toggleable__control sk-hidden--visually\" id=\"sk-estimator-id-1\" type=\"checkbox\" ><label for=\"sk-estimator-id-1\" class=\"sk-toggleable__label sk-toggleable__label-arrow\">TransformedTargetRegressor</label><div class=\"sk-toggleable__content\"><pre>TransformedTargetRegressor(regressor=Pipeline(steps=[(&#x27;std_sc&#x27;,\n",
       "                                                      StandardScaler()),\n",
       "                                                     (&#x27;cnn&#x27;,\n",
       "                                                      KerasRegressor(batch_size=-1, epochs=12000, loss=&#x27;mean_absolute_error&#x27;, model=&lt;function get_CNN at 0x0000020DC18DF310&gt;, model__alpha=0.0001, model__hidden_layer_sizes=(10, 10), model__kernel_size=3, model__n_conv_layers=1, model__n_filters=4, optimizer=&#x27;adam&#x27;, shuffle=False, verbose=0))]),\n",
       "                           transformer=StandardScaler())</pre></div></div></div><div class=\"sk-parallel\"><div class=\"sk-parallel-item\"><div class=\"sk-item\"><div class=\"sk-label-container\"><div class=\"sk-label sk-toggleable\"><input class=\"sk-toggleable__control sk-hidden--visually\" id=\"sk-estimator-id-2\" type=\"checkbox\" ><label for=\"sk-estimator-id-2\" class=\"sk-toggleable__label sk-toggleable__label-arrow\">regressor: Pipeline</label><div class=\"sk-toggleable__content\"><pre>Pipeline(steps=[(&#x27;std_sc&#x27;, StandardScaler()),\n",
       "                (&#x27;cnn&#x27;,\n",
       "                 KerasRegressor(batch_size=-1, epochs=12000, loss=&#x27;mean_absolute_error&#x27;, model=&lt;function get_CNN at 0x0000020DC18DF310&gt;, model__alpha=0.0001, model__hidden_layer_sizes=(10, 10), model__kernel_size=3, model__n_conv_layers=1, model__n_filters=4, optimizer=&#x27;adam&#x27;, shuffle=False, verbose=0))])</pre></div></div></div><div class=\"sk-serial\"><div class=\"sk-item\"><div class=\"sk-serial\"><div class=\"sk-item\"><div class=\"sk-estimator sk-toggleable\"><input class=\"sk-toggleable__control sk-hidden--visually\" id=\"sk-estimator-id-3\" type=\"checkbox\" ><label for=\"sk-estimator-id-3\" class=\"sk-toggleable__label sk-toggleable__label-arrow\">StandardScaler</label><div class=\"sk-toggleable__content\"><pre>StandardScaler()</pre></div></div></div><div class=\"sk-item\"><div class=\"sk-estimator sk-toggleable\"><input class=\"sk-toggleable__control sk-hidden--visually\" id=\"sk-estimator-id-4\" type=\"checkbox\" ><label for=\"sk-estimator-id-4\" class=\"sk-toggleable__label sk-toggleable__label-arrow\">KerasRegressor</label><div class=\"sk-toggleable__content\"><pre>KerasRegressor(\n",
       "\tmodel=&lt;function get_CNN at 0x0000020DC18DF310&gt;\n",
       "\tbuild_fn=None\n",
       "\twarm_start=False\n",
       "\trandom_state=None\n",
       "\toptimizer=adam\n",
       "\tloss=mean_absolute_error\n",
       "\tmetrics=None\n",
       "\tbatch_size=-1\n",
       "\tvalidation_batch_size=None\n",
       "\tverbose=0\n",
       "\tcallbacks=None\n",
       "\tvalidation_split=0.0\n",
       "\tshuffle=False\n",
       "\trun_eagerly=False\n",
       "\tepochs=12000\n",
       "\tmodel__alpha=0.0001\n",
       "\tmodel__hidden_layer_sizes=(10, 10)\n",
       "\tmodel__kernel_size=3\n",
       "\tmodel__n_conv_layers=1\n",
       "\tmodel__n_filters=4\n",
       ")</pre></div></div></div></div></div></div></div></div><div class=\"sk-parallel-item\"><div class=\"sk-item\"><div class=\"sk-label-container\"><div class=\"sk-label sk-toggleable\"><input class=\"sk-toggleable__control sk-hidden--visually\" id=\"sk-estimator-id-5\" type=\"checkbox\" ><label for=\"sk-estimator-id-5\" class=\"sk-toggleable__label sk-toggleable__label-arrow\">transformer: StandardScaler</label><div class=\"sk-toggleable__content\"><pre>StandardScaler()</pre></div></div></div><div class=\"sk-serial\"><div class=\"sk-item\"><div class=\"sk-estimator sk-toggleable\"><input class=\"sk-toggleable__control sk-hidden--visually\" id=\"sk-estimator-id-6\" type=\"checkbox\" ><label for=\"sk-estimator-id-6\" class=\"sk-toggleable__label sk-toggleable__label-arrow\">StandardScaler</label><div class=\"sk-toggleable__content\"><pre>StandardScaler()</pre></div></div></div></div></div></div></div></div></div></div>"
      ],
      "text/plain": [
       "TransformedTargetRegressor(regressor=Pipeline(steps=[('std_sc',\n",
       "                                                      StandardScaler()),\n",
       "                                                     ('cnn',\n",
       "                                                      KerasRegressor(batch_size=-1, epochs=12000, loss='mean_absolute_error', model=<function get_CNN at 0x0000020DC18DF310>, model__alpha=0.0001, model__hidden_layer_sizes=(10, 10), model__kernel_size=3, model__n_conv_layers=1, model__n_filters=4, optimizer='adam', shuffle=False, verbose=0))]),\n",
       "                           transformer=StandardScaler())"
      ]
     },
     "execution_count": 12,
     "metadata": {},
     "output_type": "execute_result"
    }
   ],
   "source": [
    "best_CNN_model"
   ]
  },
  {
   "cell_type": "code",
   "execution_count": 13,
   "id": "c4888490",
   "metadata": {},
   "outputs": [],
   "source": [
    "# best_MLP_model.regressor_.named_steps['mlp'].history_"
   ]
  },
  {
   "cell_type": "code",
   "execution_count": 14,
   "id": "27386a20",
   "metadata": {},
   "outputs": [
    {
     "data": {
      "text/plain": [
       "[<matplotlib.lines.Line2D at 0x20dc2261ac0>]"
      ]
     },
     "execution_count": 14,
     "metadata": {},
     "output_type": "execute_result"
    },
    {
     "data": {
      "image/png": "[encoded data removed]",
      "text/plain": [
       "<Figure size 1500x1000 with 1 Axes>"
      ]
     },
     "metadata": {},
     "output_type": "display_data"
    }
   ],
   "source": [
    "plt.figure(figsize=(15,10))\n",
    "plt.plot(best_CNN_model.regressor_.named_steps['cnn'].history_['loss'])\n",
    "# dir(best_MLP_model.regressor_.named_steps['mlp'].history_.values)"
   ]
  },
  {
   "cell_type": "markdown",
   "id": "c523a290",
   "metadata": {},
   "source": [
    "### Forecasting"
   ]
  },
  {
   "cell_type": "code",
   "execution_count": 15,
   "id": "6c13510b",
   "metadata": {},
   "outputs": [],
   "source": [
    "y_pred_CNN = best_CNN_model.predict(X_test)"
   ]
  },
  {
   "cell_type": "code",
   "execution_count": 16,
   "id": "d1909d54",
   "metadata": {},
   "outputs": [
    {
     "data": {
      "text/html": [
       "<div>\n",
       "<style scoped>\n",
       "    .dataframe tbody tr th:only-of-type {\n",
       "        vertical-align: middle;\n",
       "    }\n",
       "\n",
       "    .dataframe tbody tr th {\n",
       "        vertical-align: top;\n",
       "    }\n",
       "\n",
       "    .dataframe thead th {\n",
       "        text-align: right;\n",
       "    }\n",
       "</style>\n",
       "<table border=\"1\" class=\"dataframe\">\n",
       "  <thead>\n",
       "    <tr style=\"text-align: right;\">\n",
       "      <th></th>\n",
       "      <th>t+1</th>\n",
       "      <th>t+2</th>\n",
       "      <th>t+3</th>\n",
       "      <th>t+4</th>\n",
       "      <th>t+5</th>\n",
       "      <th>t+6</th>\n",
       "    </tr>\n",
       "  </thead>\n",
       "  <tbody>\n",
       "    <tr>\n",
       "      <th>0</th>\n",
       "      <td>0.144266</td>\n",
       "      <td>0.137142</td>\n",
       "      <td>0.131379</td>\n",
       "      <td>0.127733</td>\n",
       "      <td>0.125491</td>\n",
       "      <td>0.124969</td>\n",
       "    </tr>\n",
       "    <tr>\n",
       "      <th>1</th>\n",
       "      <td>0.142709</td>\n",
       "      <td>0.136954</td>\n",
       "      <td>0.132672</td>\n",
       "      <td>0.130709</td>\n",
       "      <td>0.129991</td>\n",
       "      <td>0.130952</td>\n",
       "    </tr>\n",
       "    <tr>\n",
       "      <th>2</th>\n",
       "      <td>0.144003</td>\n",
       "      <td>0.140637</td>\n",
       "      <td>0.138508</td>\n",
       "      <td>0.138720</td>\n",
       "      <td>0.139777</td>\n",
       "      <td>0.142155</td>\n",
       "    </tr>\n",
       "    <tr>\n",
       "      <th>3</th>\n",
       "      <td>0.180560</td>\n",
       "      <td>0.183626</td>\n",
       "      <td>0.186106</td>\n",
       "      <td>0.190052</td>\n",
       "      <td>0.193247</td>\n",
       "      <td>0.196842</td>\n",
       "    </tr>\n",
       "    <tr>\n",
       "      <th>4</th>\n",
       "      <td>0.181767</td>\n",
       "      <td>0.185391</td>\n",
       "      <td>0.188483</td>\n",
       "      <td>0.192975</td>\n",
       "      <td>0.196640</td>\n",
       "      <td>0.200614</td>\n",
       "    </tr>\n",
       "    <tr>\n",
       "      <th>...</th>\n",
       "      <td>...</td>\n",
       "      <td>...</td>\n",
       "      <td>...</td>\n",
       "      <td>...</td>\n",
       "      <td>...</td>\n",
       "      <td>...</td>\n",
       "    </tr>\n",
       "    <tr>\n",
       "      <th>8737</th>\n",
       "      <td>0.220296</td>\n",
       "      <td>0.221509</td>\n",
       "      <td>0.222213</td>\n",
       "      <td>0.222981</td>\n",
       "      <td>0.222840</td>\n",
       "      <td>0.223122</td>\n",
       "    </tr>\n",
       "    <tr>\n",
       "      <th>8738</th>\n",
       "      <td>0.220759</td>\n",
       "      <td>0.223896</td>\n",
       "      <td>0.226376</td>\n",
       "      <td>0.229045</td>\n",
       "      <td>0.230497</td>\n",
       "      <td>0.232094</td>\n",
       "    </tr>\n",
       "    <tr>\n",
       "      <th>8739</th>\n",
       "      <td>0.232352</td>\n",
       "      <td>0.236913</td>\n",
       "      <td>0.239693</td>\n",
       "      <td>0.241956</td>\n",
       "      <td>0.242371</td>\n",
       "      <td>0.242668</td>\n",
       "    </tr>\n",
       "    <tr>\n",
       "      <th>8740</th>\n",
       "      <td>0.315054</td>\n",
       "      <td>0.321239</td>\n",
       "      <td>0.321710</td>\n",
       "      <td>0.319717</td>\n",
       "      <td>0.314319</td>\n",
       "      <td>0.308082</td>\n",
       "    </tr>\n",
       "    <tr>\n",
       "      <th>8741</th>\n",
       "      <td>0.302624</td>\n",
       "      <td>0.305734</td>\n",
       "      <td>0.303846</td>\n",
       "      <td>0.299788</td>\n",
       "      <td>0.292925</td>\n",
       "      <td>0.285769</td>\n",
       "    </tr>\n",
       "  </tbody>\n",
       "</table>\n",
       "<p>8742 rows × 6 columns</p>\n",
       "</div>"
      ],
      "text/plain": [
       "           t+1       t+2       t+3       t+4       t+5       t+6\n",
       "0     0.144266  0.137142  0.131379  0.127733  0.125491  0.124969\n",
       "1     0.142709  0.136954  0.132672  0.130709  0.129991  0.130952\n",
       "2     0.144003  0.140637  0.138508  0.138720  0.139777  0.142155\n",
       "3     0.180560  0.183626  0.186106  0.190052  0.193247  0.196842\n",
       "4     0.181767  0.185391  0.188483  0.192975  0.196640  0.200614\n",
       "...        ...       ...       ...       ...       ...       ...\n",
       "8737  0.220296  0.221509  0.222213  0.222981  0.222840  0.223122\n",
       "8738  0.220759  0.223896  0.226376  0.229045  0.230497  0.232094\n",
       "8739  0.232352  0.236913  0.239693  0.241956  0.242371  0.242668\n",
       "8740  0.315054  0.321239  0.321710  0.319717  0.314319  0.308082\n",
       "8741  0.302624  0.305734  0.303846  0.299788  0.292925  0.285769\n",
       "\n",
       "[8742 rows x 6 columns]"
      ]
     },
     "execution_count": 16,
     "metadata": {},
     "output_type": "execute_result"
    }
   ],
   "source": [
    "df_y_pred_CNN = pd.DataFrame(y_pred_CNN, columns=['t+1', 't+2', 't+3', 't+4', 't+5', 't+6'])\n",
    "df_y_pred_CNN"
   ]
  },
  {
   "cell_type": "code",
   "execution_count": 17,
   "id": "5f748941",
   "metadata": {},
   "outputs": [],
   "source": [
    "MAE_CNN_t1=metrics.mean_absolute_error(y_test['percentage(t+1)'], df_y_pred_CNN['t+1'])\n",
    "MAE_CNN_t2=metrics.mean_absolute_error(y_test['percentage(t+2)'], df_y_pred_CNN['t+2'])\n",
    "MAE_CNN_t3=metrics.mean_absolute_error(y_test['percentage(t+3)'], df_y_pred_CNN['t+3'])\n",
    "MAE_CNN_t4=metrics.mean_absolute_error(y_test['percentage(t+4)'], df_y_pred_CNN['t+4'])\n",
    "MAE_CNN_t5=metrics.mean_absolute_error(y_test['percentage(t+5)'], df_y_pred_CNN['t+5'])\n",
    "MAE_CNN_t6=metrics.mean_absolute_error(y_test['percentage(t+6)'], df_y_pred_CNN['t+6'])"
   ]
  },
  {
   "cell_type": "code",
   "execution_count": 18,
   "id": "378101ac",
   "metadata": {
    "scrolled": true
   },
   "outputs": [
    {
     "name": "stdout",
     "output_type": "stream",
     "text": [
      "MAE en t+1: 0.80%\n",
      "MAE en t+2: 1.49%\n",
      "MAE en t+3: 2.07%\n",
      "MAE en t+4: 2.55%\n",
      "MAE en t+5: 2.94%\n",
      "MAE en t+6: 3.26%\n"
     ]
    }
   ],
   "source": [
    "print('MAE en t+1: {:2.2%}'.format(MAE_CNN_t1))\n",
    "print('MAE en t+2: {:2.2%}'.format(MAE_CNN_t2))\n",
    "print('MAE en t+3: {:2.2%}'.format(MAE_CNN_t3))\n",
    "print('MAE en t+4: {:2.2%}'.format(MAE_CNN_t4))\n",
    "print('MAE en t+5: {:2.2%}'.format(MAE_CNN_t5))\n",
    "print('MAE en t+6: {:2.2%}'.format(MAE_CNN_t6))"
   ]
  },
  {
   "cell_type": "markdown",
   "id": "edf90cf2",
   "metadata": {},
   "source": [
    "# Guardar el modelo"
   ]
  },
  {
   "cell_type": "code",
   "execution_count": 25,
   "id": "5214515d",
   "metadata": {},
   "outputs": [
    {
     "name": "stderr",
     "output_type": "stream",
     "text": [
      "WARNING:absl:Found untraced functions such as _jit_compiled_convolution_op, _update_step_xla while saving (showing 2 of 2). These functions will not be directly callable after loading.\n"
     ]
    },
    {
     "name": "stdout",
     "output_type": "stream",
     "text": [
      "INFO:tensorflow:Assets written to: C:\\Users\\vmore\\AppData\\Local\\Temp\\tmpk0s00v2i\\assets\n"
     ]
    },
    {
     "name": "stderr",
     "output_type": "stream",
     "text": [
      "INFO:tensorflow:Assets written to: C:\\Users\\vmore\\AppData\\Local\\Temp\\tmpk0s00v2i\\assets\n"
     ]
    },
    {
     "data": {
      "text/plain": [
       "['CNN_all_samples/CNN_model.joblib']"
      ]
     },
     "execution_count": 25,
     "metadata": {},
     "output_type": "execute_result"
    }
   ],
   "source": [
    "# best_MLP_model.regressor_.named_steps['mlp'].model_.save('modelos/MLP_scikeras_model.h5')\n",
    "joblib.dump(best_CNN_model, \"CNN_all_samples/CNN_model.joblib\")"
   ]
  },
  {
   "cell_type": "markdown",
   "id": "8bc69edb",
   "metadata": {},
   "source": [
    "# Cargar el modelo"
   ]
  },
  {
   "cell_type": "code",
   "execution_count": 26,
   "id": "cae5dea0",
   "metadata": {},
   "outputs": [],
   "source": [
    "# loaded_MLP = keras.models.load_model('modelos/MLP_scikeras_model.h5')\n",
    "loaded_MLP = joblib.load(\"CNN_all_samples/CNN_model.joblib\")"
   ]
  },
  {
   "cell_type": "code",
   "execution_count": 21,
   "id": "6999110a",
   "metadata": {},
   "outputs": [],
   "source": [
    "# plt.figure(figsize=(15,10))\n",
    "# plt.plot(loaded_MLP.regressor_.named_steps['cnn'].history_['loss'][9000:])"
   ]
  },
  {
   "cell_type": "code",
   "execution_count": 27,
   "id": "f85acc90",
   "metadata": {},
   "outputs": [],
   "source": [
    "y_pred_MLP_loaded = loaded_MLP.predict(X_test)"
   ]
  },
  {
   "cell_type": "code",
   "execution_count": 28,
   "id": "69d9c64f",
   "metadata": {},
   "outputs": [
    {
     "data": {
      "text/plain": [
       "array([[0.14426607, 0.13714187, 0.13137947, 0.12773278, 0.12549093,\n",
       "        0.12496904],\n",
       "       [0.14270948, 0.1369537 , 0.13267198, 0.13070893, 0.12999076,\n",
       "        0.1309516 ],\n",
       "       [0.14400299, 0.14063716, 0.13850771, 0.13872041, 0.13977669,\n",
       "        0.14215499],\n",
       "       ...,\n",
       "       [0.23235154, 0.23691274, 0.23969325, 0.24195585, 0.24237125,\n",
       "        0.24266842],\n",
       "       [0.31505406, 0.32123885, 0.32170987, 0.31971687, 0.31431895,\n",
       "        0.3080825 ],\n",
       "       [0.3026242 , 0.30573386, 0.30384576, 0.29978782, 0.29292458,\n",
       "        0.28576934]], dtype=float32)"
      ]
     },
     "execution_count": 28,
     "metadata": {},
     "output_type": "execute_result"
    }
   ],
   "source": [
    "y_pred_MLP_loaded"
   ]
  },
  {
   "cell_type": "code",
   "execution_count": 30,
   "id": "53111cdb",
   "metadata": {},
   "outputs": [],
   "source": [
    "# loaded_MLP.summary()"
   ]
  }
 ],
 "metadata": {
  "kernelspec": {
   "display_name": "Python 3 (ipykernel)",
   "language": "python",
   "name": "python3"
  },
  "language_info": {
   "codemirror_mode": {
    "name": "ipython",
    "version": 3
   },
   "file_extension": ".py",
   "mimetype": "text/x-python",
   "name": "python",
   "nbconvert_exporter": "python",
   "pygments_lexer": "ipython3",
   "version": "3.8.5"
  }
 },
 "nbformat": 4,
 "nbformat_minor": 5
}
