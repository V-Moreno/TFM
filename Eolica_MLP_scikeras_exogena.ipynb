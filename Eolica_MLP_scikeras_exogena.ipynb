{
 "cells": [
  {
   "cell_type": "markdown",
   "id": "72499ee0",
   "metadata": {},
   "source": [
    "# Imports"
   ]
  },
  {
   "cell_type": "code",
   "execution_count": 1,
   "id": "d28f2215",
   "metadata": {},
   "outputs": [],
   "source": [
    "import scikeras"
   ]
  },
  {
   "cell_type": "code",
   "execution_count": 2,
   "id": "d996f0df",
   "metadata": {},
   "outputs": [],
   "source": [
    "import pandas as pd\n",
    "import numpy as np\n",
    "from scikeras.wrappers import KerasRegressor\n",
    "from tensorflow import keras\n",
    "import joblib\n",
    "from plotly.subplots import make_subplots\n",
    "import plotly.graph_objects as go\n",
    "import plotly.express as px\n",
    "# import plotly.offline as pyo\n",
    "\n",
    "import plotly.io as pio\n",
    "pio.renderers.default='notebook'\n",
    "\n",
    "import matplotlib.pyplot as plt\n",
    "# pyo.init_notebook_mode()\n",
    "\n",
    "from time import time"
   ]
  },
  {
   "cell_type": "code",
   "execution_count": 3,
   "id": "d6696f54",
   "metadata": {},
   "outputs": [],
   "source": [
    "import sklearn.metrics as metrics\n",
    "from sklearn.model_selection import GridSearchCV\n",
    "from sklearn.model_selection import TimeSeriesSplit\n",
    "from sklearn.preprocessing import StandardScaler\n",
    "from sklearn.pipeline import Pipeline\n",
    "# from sklearn.neural_network import MLPRegressor\n",
    "from sklearn.compose import TransformedTargetRegressor"
   ]
  },
  {
   "cell_type": "markdown",
   "id": "29ed3799",
   "metadata": {},
   "source": [
    "# Cargar datasets"
   ]
  },
  {
   "cell_type": "code",
   "execution_count": 4,
   "id": "c5cb6219",
   "metadata": {},
   "outputs": [],
   "source": [
    "X_train = pd.read_csv('C:/Users/vmore/notebooks/TFM/Modelos eolica/datos_exogena/X_train_2y.csv', parse_dates=[0], index_col='datetime_utc')\n",
    "y_train = pd.read_csv('C:/Users/vmore/notebooks/TFM/Modelos eolica/datos_exogena/y_train_2y.csv', parse_dates=[0], index_col='datetime_utc')\n",
    "X_test = pd.read_csv('C:/Users/vmore/notebooks/TFM/Modelos eolica/datos_exogena/X_test.csv', parse_dates=[0], index_col='datetime_utc')\n",
    "y_test = pd.read_csv('C:/Users/vmore/notebooks/TFM/Modelos eolica/datos_exogena/y_test.csv', parse_dates=[0], index_col='datetime_utc')\n",
    "test_data = pd.read_csv('C:/Users/vmore/notebooks/TFM/Modelos eolica/datos_exogena/test_data.csv', parse_dates=[0], index_col='datetime_utc')"
   ]
  },
  {
   "cell_type": "markdown",
   "id": "46862e9d",
   "metadata": {},
   "source": [
    "# 4. MLP keras"
   ]
  },
  {
   "cell_type": "code",
   "execution_count": 5,
   "id": "32ee5b28",
   "metadata": {},
   "outputs": [
    {
     "name": "stdout",
     "output_type": "stream",
     "text": [
      "101.81400219202041  minutos\n"
     ]
    }
   ],
   "source": [
    "start = time()\n",
    "def get_MLP(hidden_layer_sizes, alpha, meta):\n",
    "    model = keras.Sequential()\n",
    "    inp = keras.layers.Input(shape=(meta[\"n_features_in_\"]))\n",
    "    model.add(inp)\n",
    "    for hidden_layer_size in hidden_layer_sizes:\n",
    "        layer = keras.layers.Dense(hidden_layer_size, activation=\"relu\", kernel_regularizer=keras.regularizers.L2(alpha),)\n",
    "        model.add(layer)\n",
    "    out = keras.layers.Dense(6, kernel_regularizer=keras.regularizers.L2(alpha),)\n",
    "    model.add(out)\n",
    "    return model\n",
    "\n",
    "mlp = KerasRegressor(\n",
    "    model=get_MLP,\n",
    "    loss=\"mean_absolute_error\",\n",
    "    optimizer='adam',\n",
    "    epochs=12000,\n",
    "    verbose=0,\n",
    "#     metrics=\"mean_absolute_error\",\n",
    "    shuffle=False,\n",
    "    batch_size=200,\n",
    ")\n",
    "\n",
    "mlp_pipeline = Pipeline(steps=[('std_sc', StandardScaler()),\n",
    "                               ('mlp', mlp)])\n",
    "\n",
    "y_transformer = StandardScaler()\n",
    "inner_estimator = TransformedTargetRegressor(regressor=mlp_pipeline,\n",
    "                                             transformer=y_transformer)\n",
    "\n",
    "param_grid_MLP = {'regressor__mlp__model__hidden_layer_sizes': [(10,), (50,), (100,), (10,10), (50,50), (100,100),],\n",
    "                  'regressor__mlp__model__alpha': [0.000001, 0.00001, 0.0001, 0.001, 0.01, 0.1,],\n",
    "                 }\n",
    "\n",
    "\n",
    "# TimeSeries Cross validation\n",
    "tscv = TimeSeriesSplit(n_splits=2)\n",
    "\n",
    "# Create the GridSearchCV object\n",
    "grid_search_MLP = GridSearchCV(inner_estimator, param_grid_MLP, cv=tscv, scoring='neg_mean_absolute_error',\n",
    "                              n_jobs = -1)\n",
    "\n",
    "# Fit the GridSearchCV object to the training data\n",
    "grid_search_MLP.fit(X_train, y_train)\n",
    "\n",
    "training_time = time() - start\n",
    "print(training_time/60, ' minutos')"
   ]
  },
  {
   "cell_type": "markdown",
   "id": "e2d680cf",
   "metadata": {},
   "source": [
    "### Training"
   ]
  },
  {
   "cell_type": "code",
   "execution_count": 6,
   "id": "fd2db658",
   "metadata": {},
   "outputs": [],
   "source": [
    "best_MLP_score = grid_search_MLP.best_score_\n",
    "best_MLP_model = grid_search_MLP.best_estimator_"
   ]
  },
  {
   "cell_type": "code",
   "execution_count": 7,
   "id": "996de7ce",
   "metadata": {},
   "outputs": [
    {
     "name": "stdout",
     "output_type": "stream",
     "text": [
      "Model: \"sequential\"\n",
      "_________________________________________________________________\n",
      " Layer (type)                Output Shape              Param #   \n",
      "=================================================================\n",
      " dense (Dense)               (None, 10)                310       \n",
      "                                                                 \n",
      " dense_1 (Dense)             (None, 6)                 66        \n",
      "                                                                 \n",
      "=================================================================\n",
      "Total params: 376\n",
      "Trainable params: 376\n",
      "Non-trainable params: 0\n",
      "_________________________________________________________________\n"
     ]
    }
   ],
   "source": [
    "best_MLP_model.regressor_.named_steps['mlp'].model_.summary()"
   ]
  },
  {
   "cell_type": "code",
   "execution_count": 8,
   "id": "65a74bed",
   "metadata": {},
   "outputs": [
    {
     "data": {
      "text/plain": [
       "{'regressor__mlp__model__alpha': 1e-05,\n",
       " 'regressor__mlp__model__hidden_layer_sizes': (10,)}"
      ]
     },
     "execution_count": 8,
     "metadata": {},
     "output_type": "execute_result"
    }
   ],
   "source": [
    "grid_search_MLP.best_params_"
   ]
  },
  {
   "cell_type": "code",
   "execution_count": 9,
   "id": "d0a27bfe",
   "metadata": {},
   "outputs": [
    {
     "data": {
      "text/html": [
       "<style>#sk-container-id-1 {color: black;background-color: white;}#sk-container-id-1 pre{padding: 0;}#sk-container-id-1 div.sk-toggleable {background-color: white;}#sk-container-id-1 label.sk-toggleable__label {cursor: pointer;display: block;width: 100%;margin-bottom: 0;padding: 0.3em;box-sizing: border-box;text-align: center;}#sk-container-id-1 label.sk-toggleable__label-arrow:before {content: \"▸\";float: left;margin-right: 0.25em;color: #696969;}#sk-container-id-1 label.sk-toggleable__label-arrow:hover:before {color: black;}#sk-container-id-1 div.sk-estimator:hover label.sk-toggleable__label-arrow:before {color: black;}#sk-container-id-1 div.sk-toggleable__content {max-height: 0;max-width: 0;overflow: hidden;text-align: left;background-color: #f0f8ff;}#sk-container-id-1 div.sk-toggleable__content pre {margin: 0.2em;color: black;border-radius: 0.25em;background-color: #f0f8ff;}#sk-container-id-1 input.sk-toggleable__control:checked~div.sk-toggleable__content {max-height: 200px;max-width: 100%;overflow: auto;}#sk-container-id-1 input.sk-toggleable__control:checked~label.sk-toggleable__label-arrow:before {content: \"▾\";}#sk-container-id-1 div.sk-estimator input.sk-toggleable__control:checked~label.sk-toggleable__label {background-color: #d4ebff;}#sk-container-id-1 div.sk-label input.sk-toggleable__control:checked~label.sk-toggleable__label {background-color: #d4ebff;}#sk-container-id-1 input.sk-hidden--visually {border: 0;clip: rect(1px 1px 1px 1px);clip: rect(1px, 1px, 1px, 1px);height: 1px;margin: -1px;overflow: hidden;padding: 0;position: absolute;width: 1px;}#sk-container-id-1 div.sk-estimator {font-family: monospace;background-color: #f0f8ff;border: 1px dotted black;border-radius: 0.25em;box-sizing: border-box;margin-bottom: 0.5em;}#sk-container-id-1 div.sk-estimator:hover {background-color: #d4ebff;}#sk-container-id-1 div.sk-parallel-item::after {content: \"\";width: 100%;border-bottom: 1px solid gray;flex-grow: 1;}#sk-container-id-1 div.sk-label:hover label.sk-toggleable__label {background-color: #d4ebff;}#sk-container-id-1 div.sk-serial::before {content: \"\";position: absolute;border-left: 1px solid gray;box-sizing: border-box;top: 0;bottom: 0;left: 50%;z-index: 0;}#sk-container-id-1 div.sk-serial {display: flex;flex-direction: column;align-items: center;background-color: white;padding-right: 0.2em;padding-left: 0.2em;position: relative;}#sk-container-id-1 div.sk-item {position: relative;z-index: 1;}#sk-container-id-1 div.sk-parallel {display: flex;align-items: stretch;justify-content: center;background-color: white;position: relative;}#sk-container-id-1 div.sk-item::before, #sk-container-id-1 div.sk-parallel-item::before {content: \"\";position: absolute;border-left: 1px solid gray;box-sizing: border-box;top: 0;bottom: 0;left: 50%;z-index: -1;}#sk-container-id-1 div.sk-parallel-item {display: flex;flex-direction: column;z-index: 1;position: relative;background-color: white;}#sk-container-id-1 div.sk-parallel-item:first-child::after {align-self: flex-end;width: 50%;}#sk-container-id-1 div.sk-parallel-item:last-child::after {align-self: flex-start;width: 50%;}#sk-container-id-1 div.sk-parallel-item:only-child::after {width: 0;}#sk-container-id-1 div.sk-dashed-wrapped {border: 1px dashed gray;margin: 0 0.4em 0.5em 0.4em;box-sizing: border-box;padding-bottom: 0.4em;background-color: white;}#sk-container-id-1 div.sk-label label {font-family: monospace;font-weight: bold;display: inline-block;line-height: 1.2em;}#sk-container-id-1 div.sk-label-container {text-align: center;}#sk-container-id-1 div.sk-container {/* jupyter's `normalize.less` sets `[hidden] { display: none; }` but bootstrap.min.css set `[hidden] { display: none !important; }` so we also need the `!important` here to be able to override the default hidden behavior on the sphinx rendered scikit-learn.org. See: https://github.com/scikit-learn/scikit-learn/issues/21755 */display: inline-block !important;position: relative;}#sk-container-id-1 div.sk-text-repr-fallback {display: none;}</style><div id=\"sk-container-id-1\" class=\"sk-top-container\"><div class=\"sk-text-repr-fallback\"><pre>TransformedTargetRegressor(regressor=Pipeline(steps=[(&#x27;std_sc&#x27;,\n",
       "                                                      StandardScaler()),\n",
       "                                                     (&#x27;mlp&#x27;,\n",
       "                                                      KerasRegressor(batch_size=200, epochs=12000, loss=&#x27;mean_absolute_error&#x27;, model=&lt;function get_MLP at 0x000001E1F8EA6790&gt;, model__alpha=1e-05, model__hidden_layer_sizes=(10,), optimizer=&#x27;adam&#x27;, shuffle=False, verbose=0))]),\n",
       "                           transformer=StandardScaler())</pre><b>In a Jupyter environment, please rerun this cell to show the HTML representation or trust the notebook. <br />On GitHub, the HTML representation is unable to render, please try loading this page with nbviewer.org.</b></div><div class=\"sk-container\" hidden><div class=\"sk-item sk-dashed-wrapped\"><div class=\"sk-label-container\"><div class=\"sk-label sk-toggleable\"><input class=\"sk-toggleable__control sk-hidden--visually\" id=\"sk-estimator-id-1\" type=\"checkbox\" ><label for=\"sk-estimator-id-1\" class=\"sk-toggleable__label sk-toggleable__label-arrow\">TransformedTargetRegressor</label><div class=\"sk-toggleable__content\"><pre>TransformedTargetRegressor(regressor=Pipeline(steps=[(&#x27;std_sc&#x27;,\n",
       "                                                      StandardScaler()),\n",
       "                                                     (&#x27;mlp&#x27;,\n",
       "                                                      KerasRegressor(batch_size=200, epochs=12000, loss=&#x27;mean_absolute_error&#x27;, model=&lt;function get_MLP at 0x000001E1F8EA6790&gt;, model__alpha=1e-05, model__hidden_layer_sizes=(10,), optimizer=&#x27;adam&#x27;, shuffle=False, verbose=0))]),\n",
       "                           transformer=StandardScaler())</pre></div></div></div><div class=\"sk-parallel\"><div class=\"sk-parallel-item\"><div class=\"sk-item\"><div class=\"sk-label-container\"><div class=\"sk-label sk-toggleable\"><input class=\"sk-toggleable__control sk-hidden--visually\" id=\"sk-estimator-id-2\" type=\"checkbox\" ><label for=\"sk-estimator-id-2\" class=\"sk-toggleable__label sk-toggleable__label-arrow\">regressor: Pipeline</label><div class=\"sk-toggleable__content\"><pre>Pipeline(steps=[(&#x27;std_sc&#x27;, StandardScaler()),\n",
       "                (&#x27;mlp&#x27;,\n",
       "                 KerasRegressor(batch_size=200, epochs=12000, loss=&#x27;mean_absolute_error&#x27;, model=&lt;function get_MLP at 0x000001E1F8EA6790&gt;, model__alpha=1e-05, model__hidden_layer_sizes=(10,), optimizer=&#x27;adam&#x27;, shuffle=False, verbose=0))])</pre></div></div></div><div class=\"sk-serial\"><div class=\"sk-item\"><div class=\"sk-serial\"><div class=\"sk-item\"><div class=\"sk-estimator sk-toggleable\"><input class=\"sk-toggleable__control sk-hidden--visually\" id=\"sk-estimator-id-3\" type=\"checkbox\" ><label for=\"sk-estimator-id-3\" class=\"sk-toggleable__label sk-toggleable__label-arrow\">StandardScaler</label><div class=\"sk-toggleable__content\"><pre>StandardScaler()</pre></div></div></div><div class=\"sk-item\"><div class=\"sk-estimator sk-toggleable\"><input class=\"sk-toggleable__control sk-hidden--visually\" id=\"sk-estimator-id-4\" type=\"checkbox\" ><label for=\"sk-estimator-id-4\" class=\"sk-toggleable__label sk-toggleable__label-arrow\">KerasRegressor</label><div class=\"sk-toggleable__content\"><pre>KerasRegressor(\n",
       "\tmodel=&lt;function get_MLP at 0x000001E1F8EA6790&gt;\n",
       "\tbuild_fn=None\n",
       "\twarm_start=False\n",
       "\trandom_state=None\n",
       "\toptimizer=adam\n",
       "\tloss=mean_absolute_error\n",
       "\tmetrics=None\n",
       "\tbatch_size=200\n",
       "\tvalidation_batch_size=None\n",
       "\tverbose=0\n",
       "\tcallbacks=None\n",
       "\tvalidation_split=0.0\n",
       "\tshuffle=False\n",
       "\trun_eagerly=False\n",
       "\tepochs=12000\n",
       "\tmodel__alpha=1e-05\n",
       "\tmodel__hidden_layer_sizes=(10,)\n",
       ")</pre></div></div></div></div></div></div></div></div><div class=\"sk-parallel-item\"><div class=\"sk-item\"><div class=\"sk-label-container\"><div class=\"sk-label sk-toggleable\"><input class=\"sk-toggleable__control sk-hidden--visually\" id=\"sk-estimator-id-5\" type=\"checkbox\" ><label for=\"sk-estimator-id-5\" class=\"sk-toggleable__label sk-toggleable__label-arrow\">transformer: StandardScaler</label><div class=\"sk-toggleable__content\"><pre>StandardScaler()</pre></div></div></div><div class=\"sk-serial\"><div class=\"sk-item\"><div class=\"sk-estimator sk-toggleable\"><input class=\"sk-toggleable__control sk-hidden--visually\" id=\"sk-estimator-id-6\" type=\"checkbox\" ><label for=\"sk-estimator-id-6\" class=\"sk-toggleable__label sk-toggleable__label-arrow\">StandardScaler</label><div class=\"sk-toggleable__content\"><pre>StandardScaler()</pre></div></div></div></div></div></div></div></div></div></div>"
      ],
      "text/plain": [
       "TransformedTargetRegressor(regressor=Pipeline(steps=[('std_sc',\n",
       "                                                      StandardScaler()),\n",
       "                                                     ('mlp',\n",
       "                                                      KerasRegressor(batch_size=200, epochs=12000, loss='mean_absolute_error', model=<function get_MLP at 0x000001E1F8EA6790>, model__alpha=1e-05, model__hidden_layer_sizes=(10,), optimizer='adam', shuffle=False, verbose=0))]),\n",
       "                           transformer=StandardScaler())"
      ]
     },
     "execution_count": 9,
     "metadata": {},
     "output_type": "execute_result"
    }
   ],
   "source": [
    "best_MLP_model"
   ]
  },
  {
   "cell_type": "code",
   "execution_count": 10,
   "id": "d165037a",
   "metadata": {},
   "outputs": [],
   "source": [
    "# best_MLP_model.regressor_.named_steps['mlp'].history_"
   ]
  },
  {
   "cell_type": "code",
   "execution_count": 11,
   "id": "c02f4902",
   "metadata": {},
   "outputs": [
    {
     "data": {
      "text/plain": [
       "[<matplotlib.lines.Line2D at 0x1e1f92666d0>]"
      ]
     },
     "execution_count": 11,
     "metadata": {},
     "output_type": "execute_result"
    },
    {
     "data": {
      "image/png": "[encoded data removed]",
      "text/plain": [
       "<Figure size 1500x1000 with 1 Axes>"
      ]
     },
     "metadata": {},
     "output_type": "display_data"
    }
   ],
   "source": [
    "plt.figure(figsize=(15,10))\n",
    "plt.plot(best_MLP_model.regressor_.named_steps['mlp'].history_['loss'])\n",
    "# dir(best_MLP_model.regressor_.named_steps['mlp'].history_.values)"
   ]
  },
  {
   "cell_type": "markdown",
   "id": "88aaf304",
   "metadata": {},
   "source": [
    "### Forecasting"
   ]
  },
  {
   "cell_type": "code",
   "execution_count": 12,
   "id": "3c578940",
   "metadata": {},
   "outputs": [],
   "source": [
    "y_pred_MLP = best_MLP_model.predict(X_test)"
   ]
  },
  {
   "cell_type": "code",
   "execution_count": 13,
   "id": "74298cdd",
   "metadata": {},
   "outputs": [
    {
     "data": {
      "text/html": [
       "<div>\n",
       "<style scoped>\n",
       "    .dataframe tbody tr th:only-of-type {\n",
       "        vertical-align: middle;\n",
       "    }\n",
       "\n",
       "    .dataframe tbody tr th {\n",
       "        vertical-align: top;\n",
       "    }\n",
       "\n",
       "    .dataframe thead th {\n",
       "        text-align: right;\n",
       "    }\n",
       "</style>\n",
       "<table border=\"1\" class=\"dataframe\">\n",
       "  <thead>\n",
       "    <tr style=\"text-align: right;\">\n",
       "      <th></th>\n",
       "      <th>t+1</th>\n",
       "      <th>t+2</th>\n",
       "      <th>t+3</th>\n",
       "      <th>t+4</th>\n",
       "      <th>t+5</th>\n",
       "      <th>t+6</th>\n",
       "    </tr>\n",
       "  </thead>\n",
       "  <tbody>\n",
       "    <tr>\n",
       "      <th>0</th>\n",
       "      <td>0.146081</td>\n",
       "      <td>0.135027</td>\n",
       "      <td>0.128169</td>\n",
       "      <td>0.125458</td>\n",
       "      <td>0.125374</td>\n",
       "      <td>0.127891</td>\n",
       "    </tr>\n",
       "    <tr>\n",
       "      <th>1</th>\n",
       "      <td>0.144563</td>\n",
       "      <td>0.139551</td>\n",
       "      <td>0.137803</td>\n",
       "      <td>0.138936</td>\n",
       "      <td>0.141346</td>\n",
       "      <td>0.145488</td>\n",
       "    </tr>\n",
       "    <tr>\n",
       "      <th>2</th>\n",
       "      <td>0.141947</td>\n",
       "      <td>0.140057</td>\n",
       "      <td>0.140664</td>\n",
       "      <td>0.143033</td>\n",
       "      <td>0.145857</td>\n",
       "      <td>0.150124</td>\n",
       "    </tr>\n",
       "    <tr>\n",
       "      <th>3</th>\n",
       "      <td>0.176983</td>\n",
       "      <td>0.184129</td>\n",
       "      <td>0.190157</td>\n",
       "      <td>0.194109</td>\n",
       "      <td>0.195325</td>\n",
       "      <td>0.195759</td>\n",
       "    </tr>\n",
       "    <tr>\n",
       "      <th>4</th>\n",
       "      <td>0.178129</td>\n",
       "      <td>0.182865</td>\n",
       "      <td>0.186910</td>\n",
       "      <td>0.188122</td>\n",
       "      <td>0.186191</td>\n",
       "      <td>0.184026</td>\n",
       "    </tr>\n",
       "    <tr>\n",
       "      <th>...</th>\n",
       "      <td>...</td>\n",
       "      <td>...</td>\n",
       "      <td>...</td>\n",
       "      <td>...</td>\n",
       "      <td>...</td>\n",
       "      <td>...</td>\n",
       "    </tr>\n",
       "    <tr>\n",
       "      <th>8737</th>\n",
       "      <td>0.221479</td>\n",
       "      <td>0.221351</td>\n",
       "      <td>0.223480</td>\n",
       "      <td>0.227201</td>\n",
       "      <td>0.230478</td>\n",
       "      <td>0.235163</td>\n",
       "    </tr>\n",
       "    <tr>\n",
       "      <th>8738</th>\n",
       "      <td>0.222642</td>\n",
       "      <td>0.224852</td>\n",
       "      <td>0.228581</td>\n",
       "      <td>0.231591</td>\n",
       "      <td>0.232090</td>\n",
       "      <td>0.233348</td>\n",
       "    </tr>\n",
       "    <tr>\n",
       "      <th>8739</th>\n",
       "      <td>0.241543</td>\n",
       "      <td>0.246433</td>\n",
       "      <td>0.249675</td>\n",
       "      <td>0.247374</td>\n",
       "      <td>0.238856</td>\n",
       "      <td>0.229862</td>\n",
       "    </tr>\n",
       "    <tr>\n",
       "      <th>8740</th>\n",
       "      <td>0.323198</td>\n",
       "      <td>0.328673</td>\n",
       "      <td>0.330041</td>\n",
       "      <td>0.326745</td>\n",
       "      <td>0.318750</td>\n",
       "      <td>0.308861</td>\n",
       "    </tr>\n",
       "    <tr>\n",
       "      <th>8741</th>\n",
       "      <td>0.313887</td>\n",
       "      <td>0.307781</td>\n",
       "      <td>0.299335</td>\n",
       "      <td>0.287521</td>\n",
       "      <td>0.272623</td>\n",
       "      <td>0.257845</td>\n",
       "    </tr>\n",
       "  </tbody>\n",
       "</table>\n",
       "<p>8742 rows × 6 columns</p>\n",
       "</div>"
      ],
      "text/plain": [
       "           t+1       t+2       t+3       t+4       t+5       t+6\n",
       "0     0.146081  0.135027  0.128169  0.125458  0.125374  0.127891\n",
       "1     0.144563  0.139551  0.137803  0.138936  0.141346  0.145488\n",
       "2     0.141947  0.140057  0.140664  0.143033  0.145857  0.150124\n",
       "3     0.176983  0.184129  0.190157  0.194109  0.195325  0.195759\n",
       "4     0.178129  0.182865  0.186910  0.188122  0.186191  0.184026\n",
       "...        ...       ...       ...       ...       ...       ...\n",
       "8737  0.221479  0.221351  0.223480  0.227201  0.230478  0.235163\n",
       "8738  0.222642  0.224852  0.228581  0.231591  0.232090  0.233348\n",
       "8739  0.241543  0.246433  0.249675  0.247374  0.238856  0.229862\n",
       "8740  0.323198  0.328673  0.330041  0.326745  0.318750  0.308861\n",
       "8741  0.313887  0.307781  0.299335  0.287521  0.272623  0.257845\n",
       "\n",
       "[8742 rows x 6 columns]"
      ]
     },
     "execution_count": 13,
     "metadata": {},
     "output_type": "execute_result"
    }
   ],
   "source": [
    "df_y_pred_MLP = pd.DataFrame(y_pred_MLP, columns=['t+1', 't+2', 't+3', 't+4', 't+5', 't+6'])\n",
    "df_y_pred_MLP"
   ]
  },
  {
   "cell_type": "code",
   "execution_count": 14,
   "id": "9b3cef7d",
   "metadata": {},
   "outputs": [],
   "source": [
    "MAE_MLP_t1=metrics.mean_absolute_error(y_test['percentage(t+1)'], df_y_pred_MLP['t+1'])\n",
    "MAE_MLP_t2=metrics.mean_absolute_error(y_test['percentage(t+2)'], df_y_pred_MLP['t+2'])\n",
    "MAE_MLP_t3=metrics.mean_absolute_error(y_test['percentage(t+3)'], df_y_pred_MLP['t+3'])\n",
    "MAE_MLP_t4=metrics.mean_absolute_error(y_test['percentage(t+4)'], df_y_pred_MLP['t+4'])\n",
    "MAE_MLP_t5=metrics.mean_absolute_error(y_test['percentage(t+5)'], df_y_pred_MLP['t+5'])\n",
    "MAE_MLP_t6=metrics.mean_absolute_error(y_test['percentage(t+6)'], df_y_pred_MLP['t+6'])"
   ]
  },
  {
   "cell_type": "code",
   "execution_count": 15,
   "id": "a5f7ad84",
   "metadata": {
    "scrolled": true
   },
   "outputs": [
    {
     "name": "stdout",
     "output_type": "stream",
     "text": [
      "MAE en t+1: 0.81%\n",
      "MAE en t+2: 1.49%\n",
      "MAE en t+3: 2.06%\n",
      "MAE en t+4: 2.54%\n",
      "MAE en t+5: 2.93%\n",
      "MAE en t+6: 3.25%\n"
     ]
    }
   ],
   "source": [
    "print('MAE en t+1: {:2.2%}'.format(MAE_MLP_t1))\n",
    "print('MAE en t+2: {:2.2%}'.format(MAE_MLP_t2))\n",
    "print('MAE en t+3: {:2.2%}'.format(MAE_MLP_t3))\n",
    "print('MAE en t+4: {:2.2%}'.format(MAE_MLP_t4))\n",
    "print('MAE en t+5: {:2.2%}'.format(MAE_MLP_t5))\n",
    "print('MAE en t+6: {:2.2%}'.format(MAE_MLP_t6))"
   ]
  },
  {
   "cell_type": "markdown",
   "id": "bc83fbd8",
   "metadata": {},
   "source": [
    "# Guardar el modelo"
   ]
  },
  {
   "cell_type": "code",
   "execution_count": 16,
   "id": "1cd51502",
   "metadata": {},
   "outputs": [
    {
     "name": "stderr",
     "output_type": "stream",
     "text": [
      "WARNING:absl:Found untraced functions such as _update_step_xla while saving (showing 1 of 1). These functions will not be directly callable after loading.\n"
     ]
    },
    {
     "name": "stdout",
     "output_type": "stream",
     "text": [
      "INFO:tensorflow:Assets written to: C:\\Users\\vmore\\AppData\\Local\\Temp\\tmphglks8g4\\assets\n"
     ]
    },
    {
     "name": "stderr",
     "output_type": "stream",
     "text": [
      "INFO:tensorflow:Assets written to: C:\\Users\\vmore\\AppData\\Local\\Temp\\tmphglks8g4\\assets\n"
     ]
    },
    {
     "data": {
      "text/plain": [
       "['modelos_exogena/MLP_exogena_model.joblib']"
      ]
     },
     "execution_count": 16,
     "metadata": {},
     "output_type": "execute_result"
    }
   ],
   "source": [
    "joblib.dump(best_MLP_model, \"modelos_exogena/MLP_exogena_model.joblib\")"
   ]
  },
  {
   "cell_type": "markdown",
   "id": "66b8d42d",
   "metadata": {},
   "source": [
    "# Cargar el modelo"
   ]
  },
  {
   "cell_type": "code",
   "execution_count": 17,
   "id": "74c7af38",
   "metadata": {},
   "outputs": [],
   "source": [
    "# loaded_MLP = keras.models.load_model('modelos/MLP_scikeras_model.h5')\n",
    "# loaded_MLP = joblib.load(\"modelos_exogena/MLP_exogena_model.joblib\")"
   ]
  },
  {
   "cell_type": "code",
   "execution_count": 18,
   "id": "af32fa94",
   "metadata": {},
   "outputs": [],
   "source": [
    "# y_pred_MLP_loaded = loaded_MLP.predict(X_test)"
   ]
  },
  {
   "cell_type": "code",
   "execution_count": 19,
   "id": "5208ce90",
   "metadata": {},
   "outputs": [],
   "source": [
    "# y_pred_MLP_loaded"
   ]
  },
  {
   "cell_type": "code",
   "execution_count": 20,
   "id": "40e3191c",
   "metadata": {},
   "outputs": [],
   "source": [
    "# loaded_MLP.summary()"
   ]
  }
 ],
 "metadata": {
  "kernelspec": {
   "display_name": "Python 3 (ipykernel)",
   "language": "python",
   "name": "python3"
  },
  "language_info": {
   "codemirror_mode": {
    "name": "ipython",
    "version": 3
   },
   "file_extension": ".py",
   "mimetype": "text/x-python",
   "name": "python",
   "nbconvert_exporter": "python",
   "pygments_lexer": "ipython3",
   "version": "3.8.5"
  }
 },
 "nbformat": 4,
 "nbformat_minor": 5
}
